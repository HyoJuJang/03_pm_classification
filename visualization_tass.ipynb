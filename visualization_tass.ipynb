{
 "cells": [
  {
   "cell_type": "code",
   "execution_count": null,
   "id": "180aaebf",
   "metadata": {},
   "outputs": [],
   "source": [
    "import numpy as np\n",
    "import pandas as pd\n",
    "import matplotlib.pyplot as plt\n",
    "import re\n",
    "from sklearn.preprocessing import MinMaxScaler\n",
    "from sklearn.model_selection import train_test_split\n",
    "\n",
    "############## datafarme 보여주는 범위 설정 ###################\n",
    "pd.options.display.max_columns = 1000\n",
    "pd.options.display.max_rows = 200\n",
    "pd.options.display.float_format = '{:.4f}'.format"
   ]
  },
  {
   "cell_type": "code",
   "execution_count": null,
   "id": "2e362d2b",
   "metadata": {},
   "outputs": [],
   "source": [
    "path=\"C:/Users/user/Documents/GitHub/taas/\"\n",
    "\n",
    "load_path = path + 'pm_data/'  # 데이터 불러오는 경로\n",
    "save_path = path + 'preprocessing/'  # 전처리 이후 데이터 저장하는 경로"
   ]
  },
  {
   "cell_type": "code",
   "execution_count": null,
   "id": "6ed833db",
   "metadata": {},
   "outputs": [],
   "source": [
    "# raw_data\n",
    "df = pd.read_csv(load_path + '2017_2020_data.csv', encoding = \"EUC-KR\")\n",
    "# 변수 정리 파일(name, type, 제거 여부 등)\n",
    "cate=pd.read_csv(load_path + 'catego3.csv',encoding = \"EUC-KR\")"
   ]
  },
  {
   "cell_type": "code",
   "execution_count": null,
   "id": "f46ad8f7",
   "metadata": {},
   "outputs": [],
   "source": [
    "# 원동기장치자전거 제외\n",
    "df_ljc = df.copy()\n",
    "df_pmbycmoto=df_ljc[df_ljc['당사자종별가해자_대분류']!='원동기장치자전거']\n",
    "df_pmbycmoto.reset_index(inplace=True, drop=True)"
   ]
  },
  {
   "cell_type": "code",
   "execution_count": null,
   "id": "95726b47",
   "metadata": {},
   "outputs": [],
   "source": [
    "# 분석에 필요한 변수만 filter\n",
    "dt=df_pmbycmoto.drop([x for x in cate[cate['method']=='delete'].loc[:,'column']],axis=1,inplace=False)\n",
    "dt.drop(['index'],axis=1,inplace=True)\n",
    "dt.drop(['당사자종별가해자_대분류'],axis=1,inplace=True)\n",
    "dt.reset_index(inplace=True, drop=True)"
   ]
  },
  {
   "cell_type": "code",
   "execution_count": null,
   "id": "8008148b",
   "metadata": {},
   "outputs": [],
   "source": [
    "# y : 종속변수, x : 독립변수\n",
    "dt_y=dt['Class']\n",
    "dt_X=dt.drop(['Class'],axis=1,inplace=False)"
   ]
  },
  {
   "cell_type": "code",
   "execution_count": null,
   "id": "b0332e17",
   "metadata": {},
   "outputs": [],
   "source": [
    "# train, test 8 : 2로 나누기\n",
    "train_X, test_X, train_y, test_y = train_test_split(dt_X,dt_y,test_size=0.2, random_state=0,stratify = dt_y)\n",
    "\n",
    "train_X.reset_index(inplace=True,drop=True)\n",
    "test_X.reset_index(inplace=True,drop=True)\n",
    "train_y.reset_index(inplace=True,drop=True)\n",
    "test_y.reset_index(inplace=True,drop=True)"
   ]
  },
  {
   "cell_type": "code",
   "execution_count": null,
   "id": "6710fcdc",
   "metadata": {},
   "outputs": [],
   "source": [
    "cate['method'].unique()"
   ]
  },
  {
   "cell_type": "code",
   "execution_count": null,
   "id": "94cac4f8",
   "metadata": {},
   "outputs": [],
   "source": [
    "# 지정한 변수 타입별로 분류\n",
    "dummy = [x for x in cate[cate['method']=='dummy'].iloc[:,0]]\n",
    "binary = [x for x in cate[cate['method']=='binary'].iloc[:,0]]\n",
    "ordinal = [x for x in cate[cate['method']=='ordinal'].iloc[:,0]]\n",
    "leave = [x for x in cate[cate['method']=='LeaveOneOut'].iloc[:,0]]\n",
    "binning = [x for x in cate[cate['method']=='binning'].iloc[:,0]]\n",
    "numeric = [x for x in cate[cate['method']=='numeric'].iloc[:,0]]"
   ]
  },
  {
   "cell_type": "code",
   "execution_count": null,
   "id": "c8d6d287",
   "metadata": {},
   "outputs": [],
   "source": []
  },
  {
   "cell_type": "markdown",
   "id": "81dc9f88",
   "metadata": {},
   "source": [
    "# 저장 def"
   ]
  },
  {
   "cell_type": "code",
   "execution_count": null,
   "id": "64ea2b37",
   "metadata": {},
   "outputs": [],
   "source": [
    "def save_df(data):\n",
    "    global save_pre\n",
    "    if save_pre.empty:\n",
    "        save_pre=data\n",
    "    else:\n",
    "        save_pre=pd.concat([save_pre,data],axis=1)"
   ]
  },
  {
   "cell_type": "code",
   "execution_count": null,
   "id": "af25843d",
   "metadata": {},
   "outputs": [],
   "source": [
    "def save_df_test(data):\n",
    "    global save_pre_t\n",
    "    if save_pre_t.empty:\n",
    "        save_pre_t=data\n",
    "    else:\n",
    "        save_pre_t=pd.concat([save_pre_t,data],axis=1)"
   ]
  },
  {
   "cell_type": "code",
   "execution_count": null,
   "id": "3b137c5d",
   "metadata": {},
   "outputs": [],
   "source": [
    "save_pre=pd.DataFrame()\n",
    "save_pre_t=pd.DataFrame()"
   ]
  },
  {
   "cell_type": "code",
   "execution_count": null,
   "id": "d227afe0",
   "metadata": {},
   "outputs": [],
   "source": []
  },
  {
   "cell_type": "markdown",
   "id": "430cc426",
   "metadata": {},
   "source": [
    "# ----------------------------------------------------------------------------------------------------------"
   ]
  },
  {
   "cell_type": "markdown",
   "id": "c27e0ec0",
   "metadata": {},
   "source": [
    "# LeaveOneOut 변수 효과를 살펴보기 위한 시각화 코드"
   ]
  },
  {
   "cell_type": "markdown",
   "id": "62f1a9f7",
   "metadata": {},
   "source": [
    "#### 준비 데이터 : (사고유형별) 전처리 완료한 df, leaveoneout 하기 전 기존 변수를 가지고 있는 df"
   ]
  },
  {
   "cell_type": "code",
   "execution_count": null,
   "id": "b661ae60",
   "metadata": {},
   "outputs": [],
   "source": [
    "# 한글 깨짐 지정\n",
    "import pandas as pd\n",
    "from matplotlib import pyplot as plt\n",
    "import seaborn as sns\n",
    "\n",
    "sns.set(rc = {'figure.figsize':(13,6)})\n",
    "sns.set_style('whitegrid')\n",
    "plt.rcParams['font.family'] = 'NanumGothic'\n"
   ]
  },
  {
   "cell_type": "code",
   "execution_count": null,
   "id": "73f65806",
   "metadata": {
    "scrolled": false
   },
   "outputs": [],
   "source": [
    "def loo_pca_plot(df, temp):\n",
    "    # loo 변수들 체크하기 위해 이전 변수들과 합쳐주기(PCA 진행할 때 변수들 따로 빼놔야할 듯)\n",
    "    LOO_Check=pd.concat([df.loc[:,'acci_M':'cross_form'],\n",
    "                         temp.loc[:,'사고유형_중분류':'교차로형태']],axis=1)\n",
    "    # 변수 생성을 위해 class 붙여주고,\n",
    "    LOO_Check['class']=temp['class']\n",
    "    # loo(PCA) 수치와 일치하는 기존 변수명 매칭\n",
    "    LOO_Check_df=pd.DataFrame()\n",
    "    columns_LOO = ['사고유형_중분류', '법규위반가해자', '행동유형가해자', '도로형태', '도로선형_중분류', '도로선형', '교차로형태']\n",
    "    columns_LOO_eng=['acci_M','law_viol','at_activ','road_form','road_straight_M','road_straight','cross_form']\n",
    "    \n",
    "    for i in range(len(columns_LOO)):\n",
    "        LOO_Check_df=pd.concat([LOO_Check_df,LOO_Check.loc[:,columns_LOO_eng[i]]],axis=1)\n",
    "        col_temp=pd.DataFrame()\n",
    "        # _class 변수에 기존 class 에 변수 값을 넣기\n",
    "        col_temp[columns_LOO_eng[i]+'_class'] =LOO_Check[[columns_LOO[i],'class']].apply(lambda row: '_'.join(row.values.astype(str)), axis=1)\n",
    "        LOO_Check_df=pd.concat([LOO_Check_df,col_temp],axis=1)\n",
    "\n",
    "    # loo 변수별 수치로 sort 를 한 후, class 이름과 loo 수치를 매칭한 barplot 생성\n",
    "    for i in range(len(columns_LOO_eng)):\n",
    "        temp_df=LOO_Check_df.iloc[:,i*2:i*2+2].drop_duplicates()\n",
    "        a=temp_df.sort_values(by=columns_LOO_eng[i])\n",
    "        sns.barplot(\n",
    "        data= a,\n",
    "        x= columns_LOO_eng[i],\n",
    "        y= columns_LOO_eng[i]+\"_class\",\n",
    "        )\n",
    "\n",
    "        pd.crosstab(temp['class'], temp[columns_LOO[i]], normalize = 'index').plot(kind = 'bar', rot = 45) \n",
    "        plt.legend(bbox_to_anchor = (1.05, 0.6))\n",
    "        plt.title(columns_LOO[i], size = 18)\n",
    "        plt.show()\n",
    "        print(\"---------------------------------------------------------------------------------------------------------------------------\")"
   ]
  },
  {
   "cell_type": "code",
   "execution_count": null,
   "id": "05ea40b6",
   "metadata": {
    "scrolled": false
   },
   "outputs": [],
   "source": [
    "loo_pca_plot(df_vv_train_loo_minmax, temp_df_vv_train) # 전처리된 df, 기존 변수 있는 df : "
   ]
  },
  {
   "cell_type": "code",
   "execution_count": null,
   "id": "0543b40b",
   "metadata": {},
   "outputs": [],
   "source": []
  },
  {
   "cell_type": "markdown",
   "id": "11009f6d",
   "metadata": {},
   "source": [
    "# LeaveOneOut 변수 상호작용 영향력 확인(3d plot)"
   ]
  },
  {
   "cell_type": "markdown",
   "id": "9f4c1714",
   "metadata": {},
   "source": [
    "#### 필요 데이터 : (사고유형별) loo 주성분 전에 기존 변수를 붙여놓았던 df or loo 변수 순서형으로 변환한 df"
   ]
  },
  {
   "cell_type": "code",
   "execution_count": null,
   "id": "62a02b7c",
   "metadata": {},
   "outputs": [],
   "source": [
    "import numpy as np\n",
    "from mpl_toolkits.mplot3d import Axes3D\n",
    "import matplotlib.pyplot as plt\n",
    "import seaborn as sns\n",
    "from matplotlib import cm\n",
    "\n",
    "plt.rcParams['font.family'] = 'NanumGothic'"
   ]
  },
  {
   "cell_type": "code",
   "execution_count": null,
   "id": "bd51a800",
   "metadata": {},
   "outputs": [],
   "source": [
    "def barplot_3d(df, x, y): # 원하는 df, 상호작용 확인할 변수 x, y\n",
    "    df_byc = df[df['class'] == 0]\n",
    "    df_pm = df[df['class'] == 1]\n",
    "    df_motor = df[df['class'] == 2]\n",
    "    \n",
    "    rs = pd.crosstab(df_byc[y], df_byc[x], normalize = 'all')\n",
    "    result = np.array(rs, dtype = 'float')\n",
    "    \n",
    "    fig = plt.figure(figsize=(10,8), dpi = 100)\n",
    "    ax1=fig.add_subplot(111, projection='3d')\n",
    "    \n",
    "    xlabels = np.array(rs.columns) \n",
    "    xpos = np.arange(xlabels.shape[0])\n",
    "    \n",
    "    ylabels = np.array(rs.index, dtype = 'object')\n",
    "    ypos = np.arange(ylabels.shape[0])\n",
    "    \n",
    "    xposM, yposM = np.meshgrid(xpos, ypos, copy=False)\n",
    "    \n",
    "    zpos=result\n",
    "    zpos = zpos.ravel()\n",
    "    \n",
    "    dx=0.5 \n",
    "    dy=0.5\n",
    "    dz=zpos\n",
    "    \n",
    "    ax1.w_xaxis.set_ticks(xpos + dx/2.)\n",
    "    ax1.w_xaxis.set_ticklabels(xlabels, size = 7)\n",
    "    \n",
    "    ax1.w_yaxis.set_ticks(ypos + dy/2.)\n",
    "    ax1.w_yaxis.set_ticklabels(ylabels, size = 7)\n",
    "    \n",
    "    values = np.linspace(0.2, 1., xposM.ravel().shape[0])\n",
    "    colors = cm.rainbow(values)\n",
    "    ax1.bar3d(xposM.ravel(), yposM.ravel(), dz*0, dx, dy, dz, color=colors)\n",
    "\n",
    "    plt.title(x + \" X \" + y + \" (bicycle)\")\n",
    "    plt.show()\n",
    "\n",
    "    rs = pd.crosstab(df_pm[y], df_pm[x], normalize = 'all')\n",
    "    result = np.array(rs, dtype = 'float')\n",
    "    \n",
    "    fig = plt.figure(figsize=(10,8), dpi = 100)\n",
    "    ax1=fig.add_subplot(111, projection='3d')\n",
    "    \n",
    "    xlabels = np.array(rs.columns) \n",
    "    xpos = np.arange(xlabels.shape[0])\n",
    "    \n",
    "    ylabels = np.array(rs.index, dtype = 'object')\n",
    "    ypos = np.arange(ylabels.shape[0])\n",
    "    \n",
    "    xposM, yposM = np.meshgrid(xpos, ypos, copy=False)\n",
    "    \n",
    "    zpos=result\n",
    "    zpos = zpos.ravel()\n",
    "    \n",
    "    dx=0.5 \n",
    "    dy=0.5\n",
    "    dz=zpos\n",
    "    \n",
    "    ax1.w_xaxis.set_ticks(xpos + dx/2.)\n",
    "    ax1.w_xaxis.set_ticklabels(xlabels, size = 7)\n",
    "    \n",
    "    ax1.w_yaxis.set_ticks(ypos + dy/2.)\n",
    "    ax1.w_yaxis.set_ticklabels(ylabels, size = 7)\n",
    "    \n",
    "    values = np.linspace(0.2, 1., xposM.ravel().shape[0])\n",
    "    colors = cm.rainbow(values)\n",
    "    ax1.bar3d(xposM.ravel(), yposM.ravel(), dz*0, dx, dy, dz, color=colors)\n",
    "\n",
    "    plt.title(x + \" X \" + y + \" (PM)\")\n",
    "    plt.show()\n",
    "    \n",
    "\n",
    "    rs = pd.crosstab(df_motor[y], df_motor[x], normalize = 'all')\n",
    "    result = np.array(rs, dtype = 'float')\n",
    "    \n",
    "    fig = plt.figure(figsize=(10,8), dpi = 100)\n",
    "    ax1=fig.add_subplot(111, projection='3d')\n",
    "    \n",
    "    xlabels = np.array(rs.columns) \n",
    "    xpos = np.arange(xlabels.shape[0])\n",
    "    \n",
    "    ylabels = np.array(rs.index, dtype = 'object')\n",
    "    ypos = np.arange(ylabels.shape[0])\n",
    "    \n",
    "    xposM, yposM = np.meshgrid(xpos, ypos, copy=False)\n",
    "    \n",
    "    zpos=result\n",
    "    zpos = zpos.ravel()\n",
    "    \n",
    "    dx=0.5 \n",
    "    dy=0.5\n",
    "    dz=zpos\n",
    "    \n",
    "    ax1.w_xaxis.set_ticks(xpos + dx/2.)\n",
    "    ax1.w_xaxis.set_ticklabels(xlabels, size = 7)\n",
    "    \n",
    "    ax1.w_yaxis.set_ticks(ypos + dy/2.)\n",
    "    ax1.w_yaxis.set_ticklabels(ylabels, size = 7)\n",
    "    \n",
    "    values = np.linspace(0.2, 1., xposM.ravel().shape[0])\n",
    "    colors = cm.rainbow(values)\n",
    "    ax1.bar3d(xposM.ravel(), yposM.ravel(), dz*0, dx, dy, dz, color=colors)\n",
    "\n",
    "    plt.title(x + \" X \" + y + \" (motor)\")\n",
    "    plt.show()"
   ]
  },
  {
   "cell_type": "code",
   "execution_count": null,
   "id": "e03e376d",
   "metadata": {
    "scrolled": false
   },
   "outputs": [],
   "source": [
    "barplot_3d(temp_df_vv_train, \"tree_n\", \"행동유형가해자\")"
   ]
  },
  {
   "cell_type": "code",
   "execution_count": null,
   "id": "b0253c71",
   "metadata": {},
   "outputs": [],
   "source": []
  },
  {
   "cell_type": "markdown",
   "id": "58631d17",
   "metadata": {},
   "source": [
    "# ------------------------------------------------------------------------------------------------------"
   ]
  },
  {
   "cell_type": "markdown",
   "id": "c51adbb7",
   "metadata": {},
   "source": [
    "## 상호작용 그래프 그리기 "
   ]
  },
  {
   "cell_type": "code",
   "execution_count": null,
   "id": "bcd32c64",
   "metadata": {},
   "outputs": [],
   "source": [
    "import pickle\n",
    "\n",
    "with open('C:/Users/user/Documents/GitHub/taas/inter_plot_fin/inter_plot_fin', 'rb') as file:\n",
    "    proba_check_inter = pickle.load(file)"
   ]
  },
  {
   "cell_type": "code",
   "execution_count": null,
   "id": "f5922f7b",
   "metadata": {},
   "outputs": [],
   "source": [
    "namelist = list(proba_check_inter.keys())"
   ]
  },
  {
   "cell_type": "code",
   "execution_count": null,
   "id": "af7c8b23",
   "metadata": {
    "scrolled": true
   },
   "outputs": [],
   "source": [
    "# 상호작용 3개 다 잘 있나 확인 \n",
    "for i in range(len(namelist)):\n",
    "    name = namelist[i]\n",
    "    df = proba_check_inter[name]\n",
    "    if len(df.columns) == 2:\n",
    "        print(name)\n",
    "        print(df.columns)"
   ]
  },
  {
   "cell_type": "code",
   "execution_count": null,
   "id": "c9ea1af8",
   "metadata": {
    "scrolled": false
   },
   "outputs": [],
   "source": [
    "import seaborn as sns\n",
    "import matplotlib.pyplot as plt\n",
    "\n",
    "for i in range(len(namelist)):\n",
    "    name = namelist[i]\n",
    "    print(name)\n",
    "    df = proba_check_inter[name]\n",
    "    sns.catplot(df.columns[0], df.columns[2], hue = df.columns[1],\n",
    "                kind = \"point\", data = df)\n",
    "    plt.title(name)\n",
    "    plt.show() \n",
    "    \n",
    "    df.groupby(df.columns[0])[[df.columns[2]]].mean().plot(color = 'purple', legend = False)\n",
    "    plt.hlines(df.groupby(df.columns[1])[[df.columns[2]]].mean(),0,1,color = [\"royalblue\", \"orangered\", \"green\"])\n",
    "    plt.title(df.columns[0] + \" X \" +  df.columns[1])\n",
    "    plt.show()"
   ]
  },
  {
   "cell_type": "code",
   "execution_count": null,
   "id": "ea32fe2b",
   "metadata": {},
   "outputs": [],
   "source": []
  },
  {
   "cell_type": "markdown",
   "id": "0672eff7",
   "metadata": {},
   "source": [
    "# 개요 부분 시각화 "
   ]
  },
  {
   "cell_type": "markdown",
   "id": "c2b25c10",
   "metadata": {},
   "source": [
    "## 1. 서울 pm 가해자 / 피해자 사고 빈도수 (barplot)"
   ]
  },
  {
   "cell_type": "code",
   "execution_count": null,
   "id": "88c28479",
   "metadata": {},
   "outputs": [],
   "source": [
    "import pandas as pd\n",
    "import numpy as np\n",
    "\n",
    "data = pd.read_csv(\"C:/Users/user/Documents/GitHub/taas/pm_data/가해자data_2016_2020.csv\", encoding = \"EUC-KR\")\n",
    "data1 = pd.read_csv(\"C:/Users/user/Documents/GitHub/taas/pm_data/피해자data_2016_2020.csv\", encoding = \"EUC-KR\")"
   ]
  },
  {
   "cell_type": "code",
   "execution_count": null,
   "id": "8494d01b",
   "metadata": {
    "scrolled": true
   },
   "outputs": [],
   "source": [
    "# 서울 pm 가해자 ( 피해자 pm 제외 )\n",
    "pm = data[data['당사자종별가해자'] == \"개인형이동수단(PM)\"]\n",
    "pm = pm[pm['차량용도피해자_대분류'] != \"개인형이동수단(PM)\"]\n",
    "pm = pm.iloc[:, : -10]\n",
    "pm['attack'] = 1"
   ]
  },
  {
   "cell_type": "code",
   "execution_count": null,
   "id": "d17ca572",
   "metadata": {},
   "outputs": [],
   "source": [
    "# 서울 pm 피해자 데이터 ( 가해자 pm 데이터 제거 )\n",
    "pm1 = data1[data1['당사자종별가해자'] != \"개인형이동수단(PM)\"]\n",
    "pm1 = pm1[pm1['발생지_시도'] == '서울']\n",
    "pm1['attack'] = 0"
   ]
  },
  {
   "cell_type": "code",
   "execution_count": null,
   "id": "37e69102",
   "metadata": {},
   "outputs": [],
   "source": [
    "pm = pd.concat([pm, pm1], axis = 0)\n",
    "pm = pm.reset_index(drop = True)"
   ]
  },
  {
   "cell_type": "code",
   "execution_count": null,
   "id": "f3284f17",
   "metadata": {},
   "outputs": [],
   "source": []
  },
  {
   "cell_type": "markdown",
   "id": "58dd10a8",
   "metadata": {},
   "source": [
    "## 연도별 pm 사고 발생 빈도"
   ]
  },
  {
   "cell_type": "code",
   "execution_count": null,
   "id": "f7a46db1",
   "metadata": {},
   "outputs": [],
   "source": [
    "pm['발생일시'] = pm['발생일시'].astype('str')\n",
    "pm['year'] = pm['발생일시'].str.slice(start=0,stop=4)\n",
    "pm['year'] = pd.Categorical(pm['year'], ['2017','2018','2019','2020'], ordered = False)"
   ]
  },
  {
   "cell_type": "code",
   "execution_count": null,
   "id": "54e713d7",
   "metadata": {},
   "outputs": [],
   "source": [
    "pm[pm['year'] == 2016]"
   ]
  },
  {
   "cell_type": "code",
   "execution_count": null,
   "id": "01b7f660",
   "metadata": {},
   "outputs": [],
   "source": [
    "# 한글 깨짐 지정\n",
    "import pandas as pd\n",
    "from matplotlib import pyplot as plt\n",
    "import seaborn as sns\n",
    "\n",
    "sns.set(rc = {'figure.figsize':(13,6)})\n",
    "sns.set_style('white')\n",
    "plt.rcParams['font.family'] = 'NanumGothic'\n",
    "\n",
    "barplot = sns.countplot(\"year\", hue = 'attack',palette = \"Set2\", data = pm)\n",
    "\n",
    "for p in barplot.patches:\n",
    "    barplot.annotate(p.get_height(), \n",
    "                        (p.get_x() + p.get_width() / 2.0, \n",
    "                         p.get_height()), \n",
    "                        ha = 'center', \n",
    "                        va = 'center', \n",
    "                        xytext = (0, 5),\n",
    "                        textcoords = 'offset points')\n",
    "plt.title(\"연간 서울 지역 PM 사고 피해자/가해자 빈도\",  size = 20)\n",
    "plt.xlabel(\"\")\n",
    "plt.ylabel(\"\")"
   ]
  },
  {
   "cell_type": "code",
   "execution_count": null,
   "id": "3caaed6d",
   "metadata": {},
   "outputs": [],
   "source": []
  },
  {
   "cell_type": "markdown",
   "id": "120908fc",
   "metadata": {},
   "source": [
    "# EDA"
   ]
  },
  {
   "cell_type": "code",
   "execution_count": null,
   "id": "f1bda8d9",
   "metadata": {},
   "outputs": [],
   "source": [
    "# 한글 깨짐 지정\n",
    "import pandas as pd\n",
    "from matplotlib import pyplot as plt\n",
    "import seaborn as sns\n",
    "\n",
    "dt=df_pmbycmoto\n",
    "dt['Class']"
   ]
  },
  {
   "cell_type": "code",
   "execution_count": null,
   "id": "76c96cb4",
   "metadata": {},
   "outputs": [],
   "source": [
    "# 처리 필요한 변수들 처리\n",
    "\n",
    "dt = dt[dt['연령가해자'] != '불명']\n",
    "dt['가해자연령'] = dt['연령가해자'].str[:-1].astype('int64')\n",
    "c_map = {0 : '자전거', 1 : 'PM', 2 : '이륜차'}\n",
    "dt['차종'] = dt['Class'].map(c_map)\n",
    "dt['차종'] = pd.Categorical(dt['차종'], categories=['자전거', 'PM', '이륜차'], ordered = False)\n",
    "dt['사고유형_대분류'] = pd.Categorical(dt['사고유형_대분류'], categories=['차대차', '차대사람', '차량단독'], ordered = False)"
   ]
  },
  {
   "cell_type": "code",
   "execution_count": null,
   "id": "564b17db",
   "metadata": {
    "scrolled": true
   },
   "outputs": [],
   "source": [
    "sns.set(rc = {'figure.figsize':(12,8)})\n",
    "sns.set_style('white')\n",
    "plt.rcParams['font.family'] = 'NanumGothic'\n",
    "\n",
    "\n",
    "pp = dt['차종'].value_counts()\n",
    "#define Seaborn color palette to use\n",
    "colors = sns.color_palette('Set2')[0: 2]\n",
    "explode = [0, 0.15]\n",
    "wedgeprops={'width': 0.7, 'edgecolor': 'w', 'linewidth': 5}\n",
    "pp.plot.pie(autopct='%.2f%%', colors = colors, shadow = True, explode = explode,\n",
    "       textprops={'size': 'x-large', 'color' : 'black'}) #  도넛모양 :  , wedgeprops=wedgeprops)\n",
    "plt.xlabel(\" \")"
   ]
  },
  {
   "cell_type": "code",
   "execution_count": null,
   "id": "05452b20",
   "metadata": {
    "scrolled": true
   },
   "outputs": [],
   "source": [
    "pp = dt['성별가해자_1'].value_counts()\n",
    "pp\n",
    "\n",
    "#define Seaborn color palette to use\n",
    "colors = sns.color_palette('Set2')[0: 4]\n",
    "explode = [0, 0.1,0.2, 0.3]\n",
    "wedgeprops={'width': 0.7, 'edgecolor': 'w', 'linewidth': 5}\n",
    "pp.plot.pie(autopct='%.2f%%', colors = colors, shadow = True, explode = explode,\n",
    "       textprops={'size': 'x-large', 'color' : 'black'}) #  도넛모양 :  , wedgeprops=wedgeprops)\n",
    "plt.xlabel(\" \")"
   ]
  },
  {
   "cell_type": "code",
   "execution_count": null,
   "id": "a4202be6",
   "metadata": {},
   "outputs": [],
   "source": [
    "# 차종 별 성별 가해자\n",
    "ct = pd.DataFrame(pd.crosstab(dt['차종'], dt['성별가해자'], normalize = 'index'))\n",
    "stacked = ct.stack().reset_index().rename(columns={0:'value'})\n",
    "sns.barplot(x= '차종', y = 'value', hue='성별가해자', data = stacked, palette = 'Set2')"
   ]
  },
  {
   "cell_type": "code",
   "execution_count": null,
   "id": "f26cb59f",
   "metadata": {},
   "outputs": [],
   "source": [
    "# 차종 별 성별 가해자\n",
    "dt['성별피해자'] = pd.Categorical(dt['성별가해자_1'], categories = ['남', '여', '없음', '기타불명'])\n",
    "ct = pd.DataFrame(pd.crosstab(dt['차종'], dt['성별피해자'], normalize = 'index'))\n",
    "stacked = ct.stack().reset_index().rename(columns={0:'value'})\n",
    "sns.barplot(x= '차종', y = 'value', hue='성별피해자', data = stacked, palette = 'Set2')"
   ]
  },
  {
   "cell_type": "code",
   "execution_count": null,
   "id": "249ebcf7",
   "metadata": {},
   "outputs": [],
   "source": [
    "# 차종별 사용 나이대\n",
    "\n",
    "sns.violinplot(x= '차종', y = '가해자연령', data = dt, palette = 'Set2')\n",
    "# plt.title(\"차종 별 가해자 연령\", size = 20)"
   ]
  },
  {
   "cell_type": "code",
   "execution_count": null,
   "id": "fa0a9ca6",
   "metadata": {},
   "outputs": [],
   "source": [
    "#define Seaborn color palette to use\n",
    "colors = sns.color_palette('Set2')[0:5]\n",
    "\n",
    "#create pie chart\n",
    "plt.pie(data, labels = labels, colors = colors, autopct='%.0f%%')\n",
    "plt.show()"
   ]
  },
  {
   "cell_type": "code",
   "execution_count": null,
   "id": "606fa487",
   "metadata": {
    "scrolled": true
   },
   "outputs": [],
   "source": [
    "# 차종별 사고유형 비율 (차대차, 차대사람, 차량단독)\n",
    "ct = pd.DataFrame(pd.crosstab(dt['차종'], dt['사고유형_대분류'], normalize = 'index'))\n",
    "stacked = ct.stack().reset_index().rename(columns={0:'value'})\n",
    "sns.barplot(x= '차종', y = 'value', hue='사고유형_대분류', data = stacked, palette = 'Set2')"
   ]
  },
  {
   "cell_type": "code",
   "execution_count": null,
   "id": "50894b1e",
   "metadata": {},
   "outputs": [],
   "source": [
    "# 차종별 직진/교차로 사고 비율 (차대차, 차대사람, 차량단독)\n",
    "ct = pd.DataFrame(pd.crosstab(dt['차종'], dt['사고유형_대분류'], normalize = 'index'))\n",
    "stacked = ct.stack().reset_index().rename(columns={0:'value'})\n",
    "sns.barplot(x= '차종', y = 'value', hue='사고유형_대분류', data = stacked, palette = 'Set2')"
   ]
  },
  {
   "cell_type": "code",
   "execution_count": null,
   "id": "d4a5cbb2",
   "metadata": {
    "scrolled": true
   },
   "outputs": [],
   "source": [
    "# 차종별 직진/교차로 사고 비율 (차대차, 차대사람, 차량단독)\n",
    "ct = pd.DataFrame(pd.crosstab(dt['차종'], dt['교차로형태_대분류'], normalize = 'index'))\n",
    "stacked = ct.stack().reset_index().rename(columns={0:'value'})\n",
    "dtsns.barplot(x= '차종', y = 'value', hue='교차로형태_대분류', data = stacked, palette = 'Set2')"
   ]
  },
  {
   "cell_type": "code",
   "execution_count": null,
   "id": "ea3c762d",
   "metadata": {},
   "outputs": [],
   "source": [
    "dt['차종'].value_counts()"
   ]
  },
  {
   "cell_type": "code",
   "execution_count": null,
   "id": "0074d985",
   "metadata": {},
   "outputs": [],
   "source": [
    "bicycle = dt[dt['차종'] == \"자전거\"]\n",
    "pm = dt[dt['차종'] == \"PM\"]\n",
    "motor = dt[dt['차종'] == \"이륜차\"]\n",
    "\n",
    "sns.kdeplot(\"road_num\", shade = True, data = bicycle)\n",
    "sns.kdeplot(\"road_num\", shade = True,data = pm)\n",
    "sns.kdeplot(\"road_num\", shade = True,data = motor)\n",
    "plt.legend(['자전거', 'PM', '이륜차'])"
   ]
  },
  {
   "cell_type": "code",
   "execution_count": null,
   "id": "928c9f26",
   "metadata": {},
   "outputs": [],
   "source": [
    "sns.catplot(\"성별가해자\", \"가해자연령\", hue = \"차종\" ,\n",
    "            kind = \"point\", data = dt, palette = \"Set2\")\n",
    "plt.show() "
   ]
  },
  {
   "cell_type": "code",
   "execution_count": null,
   "id": "962c9f46",
   "metadata": {},
   "outputs": [],
   "source": [
    "sns.catplot(\"성별피해자\", \"피해자연령\", hue = \"차종\" ,\n",
    "            kind = \"point\", data = dt, palette = \"Set2\")\n",
    "plt.show() "
   ]
  }
 ],
 "metadata": {
  "kernelspec": {
   "display_name": "Python 3",
   "language": "python",
   "name": "python3"
  },
  "language_info": {
   "codemirror_mode": {
    "name": "ipython",
    "version": 3
   },
   "file_extension": ".py",
   "mimetype": "text/x-python",
   "name": "python",
   "nbconvert_exporter": "python",
   "pygments_lexer": "ipython3",
   "version": "3.8.8"
  }
 },
 "nbformat": 4,
 "nbformat_minor": 5
}
