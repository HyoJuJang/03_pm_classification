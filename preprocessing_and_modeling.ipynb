{
 "cells": [
  {
   "cell_type": "code",
   "execution_count": 1,
   "id": "180aaebf",
   "metadata": {},
   "outputs": [],
   "source": [
    "import numpy as np\n",
    "import pandas as pd\n",
    "import matplotlib.pyplot as plt\n",
    "import re\n",
    "\n",
    "from sklearn.metrics import recall_score\n",
    "from sklearn.preprocessing import MinMaxScaler\n",
    "from sklearn.model_selection import train_test_split"
   ]
  },
  {
   "cell_type": "code",
   "execution_count": 2,
   "id": "83f72246",
   "metadata": {},
   "outputs": [],
   "source": [
    "from sklearn.preprocessing import StandardScaler\n",
    "from sklearn.decomposition import PCA\n",
    "from sklearn.preprocessing import MinMaxScaler"
   ]
  },
  {
   "cell_type": "code",
   "execution_count": null,
   "id": "e296ca86",
   "metadata": {},
   "outputs": [],
   "source": []
  },
  {
   "cell_type": "code",
   "execution_count": 3,
   "id": "838ac2f6",
   "metadata": {},
   "outputs": [],
   "source": [
    "pd.options.display.max_columns = 1000\n",
    "pd.options.display.max_rows = 200\n",
    "pd.options.display.float_format = '{:.4f}'.format"
   ]
  },
  {
   "cell_type": "code",
   "execution_count": 4,
   "id": "2e362d2b",
   "metadata": {},
   "outputs": [],
   "source": [
    "path = 'C:/Users/user/Documents/GitHub/'\n",
    "load_path = path + 'pm_data/'  # 데이터 불러오는 경로\n",
    "save_path = path + 'pm_data/prepro/'  # 전처리 이후 데이터 저장하는 경로\n",
    "result_path = path + 'pm_results/'"
   ]
  },
  {
   "cell_type": "code",
   "execution_count": 5,
   "id": "6ed833db",
   "metadata": {},
   "outputs": [],
   "source": [
    "df = pd.read_csv(load_path + '2017_2020_data_외부데이터통합ver.csv', encoding='EUC-KR')\n",
    "cate = pd.read_csv(load_path + 'catego3.csv', encoding='EUC-KR')"
   ]
  },
  {
   "cell_type": "code",
   "execution_count": 6,
   "id": "f46ad8f7",
   "metadata": {},
   "outputs": [],
   "source": [
    "df_cp = df.copy()\n",
    "df_pmbycmoto=df_cp[df_cp['당사자종별가해자_대분류']!='원동기장치자전거']\n",
    "df_pmbycmoto.reset_index(inplace=True, drop=True)"
   ]
  },
  {
   "cell_type": "code",
   "execution_count": 7,
   "id": "95726b47",
   "metadata": {},
   "outputs": [],
   "source": [
    "dt=df_pmbycmoto.drop([x for x in cate[cate['method']=='delete'].loc[:,'column']],axis=1,inplace=False)\n",
    "dt.drop(['index'],axis=1,inplace=True)\n",
    "dt.drop(['당사자종별가해자_대분류'],axis=1,inplace=True)\n",
    "dt.reset_index(inplace=True, drop=True)"
   ]
  },
  {
   "cell_type": "code",
   "execution_count": 9,
   "id": "94cac4f8",
   "metadata": {},
   "outputs": [],
   "source": [
    "dummy = [x for x in cate[cate['method']=='dummy'].iloc[:,0]]\n",
    "binary = [x for x in cate[cate['method']=='binary'].iloc[:,0]]\n",
    "ordinal = [x for x in cate[cate['method']=='ordinal'].iloc[:,0]]\n",
    "leave = [x for x in cate[cate['method']=='LeaveOneOut'].iloc[:,0]]\n",
    "binning = [x for x in cate[cate['method']=='binning'].iloc[:,0]]\n",
    "numeric = [x for x in cate[cate['method']=='numeric'].iloc[:,0]]"
   ]
  },
  {
   "cell_type": "markdown",
   "id": "81dc9f88",
   "metadata": {},
   "source": [
    "# 저장 함수"
   ]
  },
  {
   "cell_type": "code",
   "execution_count": 10,
   "id": "64ea2b37",
   "metadata": {},
   "outputs": [],
   "source": [
    "def save_df(data):\n",
    "    global save_pre\n",
    "    if save_pre.empty:\n",
    "        save_pre=data\n",
    "    else:\n",
    "        save_pre=pd.concat([save_pre,data],axis=1)"
   ]
  },
  {
   "cell_type": "code",
   "execution_count": 11,
   "id": "3b137c5d",
   "metadata": {},
   "outputs": [],
   "source": [
    "save_pre=pd.DataFrame()"
   ]
  },
  {
   "cell_type": "markdown",
   "id": "69b0e0af",
   "metadata": {},
   "source": [
    "# 전처리 함수"
   ]
  },
  {
   "cell_type": "code",
   "execution_count": 12,
   "id": "5f7bea66",
   "metadata": {},
   "outputs": [],
   "source": [
    "from sklearn.preprocessing import LabelEncoder\n",
    "from sklearn.preprocessing import OneHotEncoder\n",
    "from sklearn.compose import ColumnTransformer, make_column_transformer\n",
    "from sklearn.preprocessing import OneHotEncoder"
   ]
  },
  {
   "cell_type": "code",
   "execution_count": 13,
   "id": "2781f62d",
   "metadata": {},
   "outputs": [],
   "source": [
    "def dummy_encoding(var, atr, newcol):\n",
    "    df_temp = pd.DataFrame()\n",
    "    odn = pd.Categorical(var, categories = atr, ordered = False)\n",
    "    odn_v = pd.DataFrame(odn.codes)\n",
    "    enc = OneHotEncoder()\n",
    "    enc_df = pd.DataFrame(enc.fit_transform(odn_v).toarray())\n",
    "\n",
    "    enc_df.columns = newcol\n",
    "    df_temp= enc_df.iloc[:,1:] # 앞에 변수 빼줌으로써, dummy 변환  \n",
    "    return df_temp"
   ]
  },
  {
   "cell_type": "code",
   "execution_count": 14,
   "id": "c0d0d820",
   "metadata": {},
   "outputs": [],
   "source": [
    "def binary_encoding(data, atr_t,atr_f, newname): # 변수, 1로 변환할 변수명, 새로운 변수 이름\n",
    "    bn = []  \n",
    "    for index, row in data.iterrows():\n",
    "        if row[0] in atr_t:\n",
    "            bn.append(1)\n",
    "        elif row[0] in atr_f:\n",
    "            bn.append(0)\n",
    "        else:\n",
    "            bn.append(-1)\n",
    "\n",
    "    bv = pd.DataFrame(bn)\n",
    "    bv.columns = newname\n",
    "    return bv"
   ]
  },
  {
   "cell_type": "code",
   "execution_count": 15,
   "id": "a2efc9a8",
   "metadata": {},
   "outputs": [],
   "source": [
    "def make_ordinal(data, m_list, col,w):\n",
    "    series=data.reset_index(drop=True).copy()\n",
    "    \n",
    "    for i in range(len(m_list)):\n",
    "        num=0\n",
    "        for index, row in series.iterrows():\n",
    "            if row[0] in m_list[i]:\n",
    "                series.loc[num]=w[i]\n",
    "            else:\n",
    "                series.loc[num]=0.5\n",
    "            \n",
    "            num=num+1\n",
    "    series.columns = col\n",
    "    return series"
   ]
  },
  {
   "cell_type": "code",
   "execution_count": 16,
   "id": "aa9ce04c",
   "metadata": {},
   "outputs": [],
   "source": [
    "from sklearn.base import BaseEstimator, TransformerMixin\n",
    "import category_encoders as ce"
   ]
  },
  {
   "cell_type": "code",
   "execution_count": 17,
   "id": "21c8b46b",
   "metadata": {},
   "outputs": [],
   "source": [
    "class TargetEncoder(BaseEstimator, TransformerMixin):\n",
    "    \n",
    "    def __init__(self, cols=None):\n",
    "        if isinstance(cols, str):\n",
    "            self.cols = [cols]\n",
    "        else:\n",
    "            self.cols = cols\n",
    "        \n",
    "        \n",
    "    def fit(self, X, y):\n",
    "        # Encode all categorical cols by default\n",
    "        if self.cols is None:\n",
    "            self.cols = [col for col in X \n",
    "                         if str(X[col].dtype)=='object']\n",
    "\n",
    "        # Check columns are in X\n",
    "        for col in self.cols:\n",
    "            if col not in X:\n",
    "                raise ValueError('Column \\''+col+'\\' not in X')\n",
    "\n",
    "        # Encode each element of each column\n",
    "        self.maps = dict() #dict to store map for each column\n",
    "        for col in self.cols:\n",
    "            tmap = dict()\n",
    "            uniques = X[col].unique()\n",
    "            for unique in uniques:\n",
    "                tmap[unique] = y[X[col]==unique].mean()\n",
    "            self.maps[col] = tmap\n",
    "            \n",
    "        return self\n",
    "\n",
    "        \n",
    "    def transform(self, X, y=None):\n",
    "        Xo = X.copy()\n",
    "        for col, tmap in self.maps.items():\n",
    "            vals = np.full(X.shape[0], np.nan)\n",
    "            for val, mean_target in tmap.items():\n",
    "                vals[X[col]==val] = mean_target\n",
    "            Xo[col] = vals\n",
    "        return Xo\n",
    "            \n",
    "            \n",
    "    def fit_transform(self, X, y=None):\n",
    "        return self.fit(X, y).transform(X, y)"
   ]
  },
  {
   "cell_type": "code",
   "execution_count": 18,
   "id": "c0f7c446",
   "metadata": {},
   "outputs": [],
   "source": [
    "class TargetEncoderLOO(TargetEncoder):\n",
    "    \n",
    "    def __init__(self, cols=None):\n",
    "        self.cols = cols\n",
    "        \n",
    "    def fit(self, X, y):\n",
    "        # Encode all categorical cols by default\n",
    "        if self.cols is None:\n",
    "            self.cols = [col for col in X\n",
    "                         if str(X[col].dtype)=='object']\n",
    "\n",
    "        # Check columns are in X\n",
    "        for col in self.cols:\n",
    "            if col not in X:\n",
    "                raise ValueError('Column \\''+col+'\\' not in X')\n",
    "\n",
    "        # Encode each element of each column\n",
    "        self.sum_count = dict()\n",
    "        for col in self.cols:\n",
    "            self.sum_count[col] = dict()\n",
    "            uniques = X[col].unique()\n",
    "            for unique in uniques:\n",
    "                ix = X[col]==unique\n",
    "                self.sum_count[col][unique] = \\\n",
    "                    (y[ix].sum(),ix.sum())\n",
    "            \n",
    "        # Return the fit object\n",
    "        return self\n",
    "\n",
    "    \n",
    "    def transform(self, X, y=None):  \n",
    "        # Create output dataframe\n",
    "        Xo = X.copy()\n",
    "\n",
    "        # Use normal target encoding if this is test data\n",
    "        if y is None:\n",
    "            for col in self.sum_count:\n",
    "                vals = np.full(X.shape[0], np.nan)\n",
    "                for cat, sum_count in self.sum_count[col].items():\n",
    "                    vals[X[col]==cat] = sum_count[0]/sum_count[1]\n",
    "                Xo[col] = vals\n",
    "\n",
    "        # LOO target encode each column\n",
    "        else:\n",
    "            for col in self.sum_count:\n",
    "                vals = np.full(X.shape[0], np.nan)\n",
    "                for cat, sum_count in self.sum_count[col].items():\n",
    "                    ix = X[col]==cat\n",
    "                    vals[ix] = (sum_count[0]-y[ix])/(sum_count[1]-1)\n",
    "                Xo[col] = vals\n",
    "            \n",
    "        # Return encoded DataFrame\n",
    "        return Xo\n",
    "      \n",
    "            \n",
    "    def fit_transform(self, X, y=None):\n",
    "        return self.fit(X, y).transform(X, y)"
   ]
  },
  {
   "cell_type": "code",
   "execution_count": 19,
   "id": "879677f9",
   "metadata": {},
   "outputs": [],
   "source": [
    "def LOOencoding(X,y):\n",
    "    y=y.astype(str)\n",
    "    enc=ce.OneHotEncoder().fit(y)\n",
    "    y_onehot=enc.transform(y)\n",
    "    class_names=y_onehot.columns\n",
    "    \n",
    "    X_new=pd.DataFrame()\n",
    "    name=['pm','byc','motor']\n",
    "    enc_save=[]\n",
    "    for i in range(len(class_names)):\n",
    "        cl = class_names[i]\n",
    "        enc=TargetEncoderLOO()\n",
    "        enc_save.append(enc)\n",
    "        enc.fit(X,y_onehot[cl])\n",
    "        temp=enc.fit_transform(X,y_onehot[cl])\n",
    "        temp.columns=[str(x)+'_'+str(name[i]) for x in temp.columns]\n",
    "        X_new=pd.concat([X_new,temp],axis=1)\n",
    "    return X_new, enc_save"
   ]
  },
  {
   "cell_type": "code",
   "execution_count": 20,
   "id": "76330b9f",
   "metadata": {},
   "outputs": [],
   "source": [
    "def TargetEncoding(X,y):\n",
    "    y=y.astype(str)\n",
    "    enc=ce.OneHotEncoder().fit(y)\n",
    "    y_onehot=enc.transform(y)\n",
    "    class_names=y_onehot.columns\n",
    "    \n",
    "    X_new=pd.DataFrame()\n",
    "    name=['pm','byc','motor']\n",
    "    for i in range(len(class_names)):\n",
    "        cl = class_names[i]\n",
    "        enc=TargetEncoder()\n",
    "        temp=enc.fit_transform(X,y_onehot[cl])\n",
    "        temp.columns=[str(x)+'_'+str(name[i]) for x in temp.columns]\n",
    "        X_new=pd.concat([X_new,temp],axis=1)\n",
    "    return X_new"
   ]
  },
  {
   "cell_type": "code",
   "execution_count": 21,
   "id": "0720d9e4",
   "metadata": {},
   "outputs": [],
   "source": [
    "def make_mean(data,col):\n",
    "    temp = data.copy()\n",
    "    y=data[data[col]!=-1].mean()\n",
    "    \n",
    "    for index,row in data.iterrows():\n",
    "        if row[0] == -1:\n",
    "            temp.loc[index]=y\n",
    "            \n",
    "    return temp"
   ]
  },
  {
   "cell_type": "code",
   "execution_count": null,
   "id": "8fdf2d43",
   "metadata": {},
   "outputs": [],
   "source": []
  },
  {
   "cell_type": "markdown",
   "id": "a38d2ea3",
   "metadata": {},
   "source": [
    "# 인코딩 실행"
   ]
  },
  {
   "cell_type": "markdown",
   "id": "90141412",
   "metadata": {},
   "source": [
    "### Dummy & Binary"
   ]
  },
  {
   "cell_type": "code",
   "execution_count": 22,
   "id": "f84ad2b6",
   "metadata": {},
   "outputs": [],
   "source": [
    "dt_week_train=dummy_encoding(dt['요일'],['일','월','화','수','목','금','토'],[\"sun\",\"mon\",\"tue\",\"wed\",\"thu\",\"fri\",\"sat\"])\n",
    "save_df(dt_week_train)"
   ]
  },
  {
   "cell_type": "code",
   "execution_count": 23,
   "id": "fa558d01",
   "metadata": {},
   "outputs": [],
   "source": [
    "df_slope_train=dummy_encoding(dt['SOILSLOPE'],['0-2%','2-7%','7-15%','15-30%','기타','30-60%','60-100%'],[\"slope_1\",\"slope_2\",\"slope_3\",\"slope_4\",\"slope_etc\",\"slope_5\",\"slope_6\"])\n",
    "save_df(df_slope_train)"
   ]
  },
  {
   "cell_type": "code",
   "execution_count": 24,
   "id": "d4efe90d",
   "metadata": {},
   "outputs": [],
   "source": [
    "dt_night_train=binary_encoding(dt[['주야']],['야'],['주'],['night'])\n",
    "save_df(dt_night_train)"
   ]
  },
  {
   "cell_type": "code",
   "execution_count": 25,
   "id": "56e429a3",
   "metadata": {},
   "outputs": [],
   "source": [
    "dt_at_gender_train=binary_encoding(dt[['성별가해자']],['남'],['여'],['at_gender'])\n",
    "save_df(dt_at_gender_train)"
   ]
  },
  {
   "cell_type": "code",
   "execution_count": 26,
   "id": "d0bc0a30",
   "metadata": {},
   "outputs": [],
   "source": [
    "dt_vt_gender_train=binary_encoding(dt[['성별가해자_1']],['남'],['여'],['vt_gender'])\n",
    "save_df(dt_vt_gender_train)"
   ]
  },
  {
   "cell_type": "code",
   "execution_count": 27,
   "id": "d0724dfe",
   "metadata": {},
   "outputs": [],
   "source": [
    "dt_road_stat_train=binary_encoding(dt[['노면상태']],['건조'],['젖음/습기','기타','서리/결빙','적설','침수','해빙'],['road_stat'])\n",
    "save_df(dt_road_stat_train)"
   ]
  },
  {
   "cell_type": "code",
   "execution_count": 28,
   "id": "b4c6adab",
   "metadata": {},
   "outputs": [],
   "source": [
    "dt_alch_train=binary_encoding(dt[['음주측정수치가해자_대분류']],['음주운전','음주상태'],['해당 없음'],['alch'])\n",
    "save_df(dt_alch_train)"
   ]
  },
  {
   "cell_type": "code",
   "execution_count": 29,
   "id": "513214f8",
   "metadata": {},
   "outputs": [],
   "source": [
    "dt_at_prot_train=binary_encoding(dt[['보호장구가해자']],['착용'],['미착용'],['at_prot'])\n",
    "save_df(dt_at_prot_train)"
   ]
  },
  {
   "cell_type": "code",
   "execution_count": 30,
   "id": "47fdac71",
   "metadata": {},
   "outputs": [],
   "source": [
    "dt_vt_prot_train=binary_encoding(dt[['보호장구피해자']],['착용','없음'],['미착용','보행자'],['vt_prot'])\n",
    "save_df(dt_vt_prot_train)"
   ]
  },
  {
   "cell_type": "markdown",
   "id": "ca72324f",
   "metadata": {},
   "source": [
    "### Ordinal"
   ]
  },
  {
   "cell_type": "code",
   "execution_count": 31,
   "id": "ce244251",
   "metadata": {},
   "outputs": [],
   "source": [
    "dt_accident_train= make_ordinal(dt[['사고내용']],[['부상신고'],['경상'],['중상'],['사망']],['accident'],[0.25,0.5,0.75,1])\n",
    "save_df(dt_accident_train)"
   ]
  },
  {
   "cell_type": "code",
   "execution_count": 32,
   "id": "9261569d",
   "metadata": {},
   "outputs": [],
   "source": [
    "dt_at_driving_straight_train=binary_encoding(dt[['행동유형가해자_중분류']],\n",
    "                                          ['직진관련'],['주정차중','후진 중','주행 중 대기','불명','기타','회전관련'],\n",
    "                                          ['at_driving_straight'])\n",
    "save_df(dt_at_driving_straight_train)"
   ]
  },
  {
   "cell_type": "code",
   "execution_count": 33,
   "id": "76f33093",
   "metadata": {},
   "outputs": [],
   "source": [
    "dt_at_driving_leftright_train=binary_encoding(dt[['행동유형가해자_중분류']],\n",
    "                                          ['회전관련'],['주정차중','후진 중','주행 중 대기','불명','기타','직진관련'],\n",
    "                                          ['at_driving_leftright'])\n",
    "save_df(dt_at_driving_leftright_train)"
   ]
  },
  {
   "cell_type": "code",
   "execution_count": 34,
   "id": "53876448",
   "metadata": {},
   "outputs": [],
   "source": [
    "dt_road_form_train= make_ordinal(dt[['도로형태_대분류']],[['단일로'],['교차로'],['기타','불명','주차장']]\n",
    "                                 ,['road_form_B'],[0, 1,-1])\n",
    "save_df(dt_road_form_train)"
   ]
  },
  {
   "cell_type": "code",
   "execution_count": 35,
   "id": "f25292f2",
   "metadata": {},
   "outputs": [],
   "source": [
    "save_df(dt[['사고유형_중분류', '법규위반가해자', '행동유형가해자', '도로형태', '교차로형태']])"
   ]
  },
  {
   "cell_type": "code",
   "execution_count": null,
   "id": "a5459de4",
   "metadata": {},
   "outputs": [],
   "source": []
  },
  {
   "cell_type": "markdown",
   "id": "25e96e06",
   "metadata": {},
   "source": [
    "## binning"
   ]
  },
  {
   "cell_type": "code",
   "execution_count": 36,
   "id": "92874a38",
   "metadata": {},
   "outputs": [],
   "source": [
    "def bin_age(x):\n",
    "    bins= [0,13,16,20,30,40,50,60,70,98,150]\n",
    "    labels = [0,13,16,20,30,40,50,60,70,-1]\n",
    "    return pd.cut(x, bins=bins, labels=labels, right=False)"
   ]
  },
  {
   "cell_type": "code",
   "execution_count": 37,
   "id": "adbc32d9",
   "metadata": {},
   "outputs": [],
   "source": [
    "def make_number(x):  # 숫자만 추출\n",
    "    if str(x) != \"미분류\":\n",
    "        numbers = re.sub(r'[^0-9]', '', str(x))\n",
    "        if numbers:\n",
    "            return int(numbers)\n",
    "        else:\n",
    "            return 0\n",
    "    else:\n",
    "        return -1"
   ]
  },
  {
   "cell_type": "code",
   "execution_count": 38,
   "id": "e409006f",
   "metadata": {},
   "outputs": [],
   "source": [
    "dt_at_age_train= dt['연령가해자'].apply(make_number)\n",
    "dt_at_age_train = bin_age(dt_at_age_train).astype('int')\n",
    "dt_at_age_train_temp=pd.DataFrame(dt_at_age_train)\n",
    "dt_at_age_train_temp.columns=['at_age']\n",
    "dt_at_age_train_temp.reset_index(inplace=True,drop=True)\n",
    "save_df(dt_at_age_train_temp)"
   ]
  },
  {
   "cell_type": "code",
   "execution_count": 39,
   "id": "9857e7fe",
   "metadata": {},
   "outputs": [],
   "source": [
    "dt_vt_age_train= dt['연령피해자'].apply(make_number)\n",
    "dt_vt_age_train = bin_age(dt_vt_age_train).astype('int')\n",
    "dt_vt_age_train_temp=pd.DataFrame(dt_vt_age_train)\n",
    "dt_vt_age_train_temp.columns=['vt_age']\n",
    "dt_vt_age_train_temp.reset_index(inplace=True,drop=True)\n",
    "\n",
    "save_df(dt_vt_age_train_temp)"
   ]
  },
  {
   "cell_type": "code",
   "execution_count": 40,
   "id": "dab01382",
   "metadata": {},
   "outputs": [],
   "source": [
    "dt_another_train=dt.loc[:,['schoolA','silverA','bycA','road_num','busstop_n','tree_n','subway_n','Class']]\n",
    "save_df(dt_another_train)"
   ]
  },
  {
   "cell_type": "markdown",
   "id": "ec46c26e",
   "metadata": {},
   "source": [
    "### 남은 전처리 \n",
    "target 변수 처리, road_form_B 결측치 대체, 100세 이상 삭제, 데이터 셋 나누기(차대차...)"
   ]
  },
  {
   "cell_type": "code",
   "execution_count": 41,
   "id": "5ef4acee",
   "metadata": {},
   "outputs": [],
   "source": [
    "df_try=save_pre.copy()"
   ]
  },
  {
   "cell_type": "code",
   "execution_count": 42,
   "id": "c5168c52",
   "metadata": {},
   "outputs": [],
   "source": [
    "df_try['group']=dt['사고유형_대분류']"
   ]
  },
  {
   "cell_type": "code",
   "execution_count": 43,
   "id": "7ed72911",
   "metadata": {},
   "outputs": [],
   "source": [
    "df_try.loc[((df_try['road_form_B']== -1) & (df_try['road_num']>= 2)), 'road_form_B'] = 1\n",
    "df_try.loc[((df_try['road_form_B']== -1) & (df_try['road_num']< 2)), 'road_form_B'] = 0"
   ]
  },
  {
   "cell_type": "code",
   "execution_count": 44,
   "id": "28bf2924",
   "metadata": {},
   "outputs": [],
   "source": [
    "df_try = df_try[df_try['at_age'] != -1]\n",
    "df_try = df_try[df_try['at_gender'] != -1]\n",
    "df_try = df_try[df_try['vt_age'] != -1]"
   ]
  },
  {
   "cell_type": "code",
   "execution_count": null,
   "id": "f1316be1",
   "metadata": {},
   "outputs": [],
   "source": []
  },
  {
   "cell_type": "code",
   "execution_count": 45,
   "id": "edccb20e",
   "metadata": {},
   "outputs": [],
   "source": [
    "dt_y=df_try['Class']\n",
    "dt_X=df_try.drop(['Class'],axis=1,inplace=False)"
   ]
  },
  {
   "cell_type": "code",
   "execution_count": 46,
   "id": "8d941c16",
   "metadata": {},
   "outputs": [],
   "source": [
    "train_X, test_X, train_y, test_y = train_test_split(dt_X,dt_y,test_size=0.2, random_state=0, stratify = dt_y)"
   ]
  },
  {
   "cell_type": "code",
   "execution_count": 47,
   "id": "2949c3a2",
   "metadata": {},
   "outputs": [],
   "source": [
    "# train_X.reset_index(inplace=True,drop=True)\n",
    "# test_X.reset_index(inplace=True,drop=True)\n",
    "# train_y.reset_index(inplace=True,drop=True)\n",
    "# test_y.reset_index(inplace=True,drop=True)"
   ]
  },
  {
   "cell_type": "code",
   "execution_count": 48,
   "id": "2ceafaff",
   "metadata": {},
   "outputs": [],
   "source": [
    "df_train = pd.concat([train_X,train_y],axis=1)\n",
    "df_test = pd.concat([test_X,test_y],axis=1)\n",
    "df_tt = [df_train,df_test]"
   ]
  },
  {
   "cell_type": "markdown",
   "id": "50076d6c",
   "metadata": {},
   "source": [
    "## dict 만들기"
   ]
  },
  {
   "cell_type": "code",
   "execution_count": 49,
   "id": "638b9bd7",
   "metadata": {},
   "outputs": [],
   "source": [
    "def make_dict(front_df, front_df_name, func_num, func_cond , back_df_name):        \n",
    "    a_dict={}  \n",
    "    \n",
    "    for df1,dfname1 in zip(front_df, front_df_name):   #a는 ordinal 하나당 쪼개진 4개의 데이터프레임 묶음 / 반복 4번\n",
    "        if(func_num==1):\n",
    "            temp = make_vvv(df1,func_cond)\n",
    "        elif(func_num==2):\n",
    "            temp = make_interaction2(df1,func_cond)\n",
    "        elif(func_num==3):\n",
    "            temp = make_drop(df1)\n",
    "            \n",
    "        for df2, dfname2 in zip(temp, back_df_name):  # /반복 3번\n",
    "            a_dict[dfname1+'_' + dfname2]= df2\n",
    "            \n",
    "    return a_dict"
   ]
  },
  {
   "cell_type": "code",
   "execution_count": 50,
   "id": "4b9acfb3",
   "metadata": {},
   "outputs": [],
   "source": [
    "def make_vvv(df, cond): \n",
    "    temp=[]\n",
    "    \n",
    "    for i in cond:\n",
    "        df_temp=df.copy()\n",
    "        temp.append(df_temp[df_temp['group']==i])\n",
    "    \n",
    "    return temp"
   ]
  },
  {
   "cell_type": "code",
   "execution_count": 51,
   "id": "e8373163",
   "metadata": {},
   "outputs": [],
   "source": [
    "def make_interaction2(dt_vv2, arr): # arr : ['law_viol','at_activ','road_form','cross_form']\n",
    "    temp=[]\n",
    "    df_temp=dt_vv2\n",
    "    col_driving = np.array(['at_driving_straight','at_driving_leftright',\n",
    "                            'law_viol',\n",
    "                           'at_activ', 'night'])\n",
    "    col_env = np.array(['road_form', 'cross_form', 'schoolA', 'silverA',\n",
    "                        'bycA', 'road_num', 'busstop_n',\n",
    "                        'tree_n','subway_n','slope_2', 'slope_3', 'slope_4', 'slope_etc', 'slope_5', 'slope_6'])\n",
    "    last=['law_viol','at_activ','road_form','cross_form']\n",
    "    for i in arr:\n",
    "        df_temp=dt_vv2.copy()\n",
    "        if i in col_driving:\n",
    "            for col1 in col_driving:\n",
    "                if i==col1:\n",
    "                    col1=i+'_ordinal'\n",
    "                for col2 in col_env:\n",
    "                    df_temp[col2 + '*' + col1] = df_temp[col1].mul(df_temp[col2])\n",
    "        \n",
    "        elif i in col_env:\n",
    "            for col1 in col_env:\n",
    "                if i==col1:\n",
    "                    col1=i+'_ordinal'\n",
    "                for col2 in col_driving:\n",
    "\n",
    "                    df_temp[col2 + '*' + col1] = df_temp[col1].mul(df_temp[col2])\n",
    "        \n",
    "        else:\n",
    "            for col1 in col_driving:\n",
    "                for col2 in col_env:\n",
    "                    df_temp[col2 + '*' + col1] = df_temp[col1].mul(df_temp[col2])\n",
    "                    \n",
    "                \n",
    "        if i in last:\n",
    "            df_temp.drop(i, axis=1, inplace=True)\n",
    "            df_temp.drop([x + '_ordinal' for x in last if x != i], +axis=1, inplace=True)\n",
    "        else:\n",
    "            df_temp.drop([x + '_ordinal' for x in last], axis=1, inplace=True)\n",
    "\n",
    "        df_temp.drop('acci_M_ordinal', axis=1, inplace=True)\n",
    "        temp.append(df_temp)  \n",
    "              \n",
    "        \n",
    "#         df_temp.drop(i, axis=1, inplace=True)\n",
    "#         df_temp.drop('acci_M_ordinal', axis=1, inplace=True)\n",
    "#         df_temp.drop([x + '_ordinal' for x in arr if x != i], axis=1, inplace=True)\n",
    "#         temp.append(df_temp)\n",
    "    \n",
    "    return temp"
   ]
  },
  {
   "cell_type": "code",
   "execution_count": 52,
   "id": "de91d449",
   "metadata": {},
   "outputs": [],
   "source": [
    "def make_drop(df): \n",
    "    temp=[]\n",
    "    \n",
    "    df_temp=df.copy()\n",
    "    temp.append(df_temp)\n",
    "    temp.append(df_temp.drop(['accident','at_age','vt_age','at_gender', 'vt_gender',\n",
    "        'at_prot', 'vt_prot', 'alch', \n",
    "        'mon','tue','wed','thu','fri','sat'],axis=1))\n",
    "    \n",
    "    return temp"
   ]
  },
  {
   "cell_type": "code",
   "execution_count": 53,
   "id": "e54a26ff",
   "metadata": {},
   "outputs": [],
   "source": [
    "a_dict_check= make_dict(df_tt, ['df_train','df_test'], 1, ['차대차','차대사람','차량단독'] , ['vv','vp','va'])"
   ]
  },
  {
   "cell_type": "code",
   "execution_count": 54,
   "id": "c19cdc03",
   "metadata": {},
   "outputs": [],
   "source": [
    "dict_key_name=[]\n",
    "dict_value_df=[]\n",
    "for key,value in a_dict_check.items():\n",
    "    dict_key_name.append(key)\n",
    "    dict_value_df.append(value.drop(['group'],axis=1))"
   ]
  },
  {
   "cell_type": "code",
   "execution_count": 55,
   "id": "1e7d6cd3",
   "metadata": {},
   "outputs": [
    {
     "data": {
      "text/plain": [
       "['df_train_vv',\n",
       " 'df_train_vp',\n",
       " 'df_train_va',\n",
       " 'df_test_vv',\n",
       " 'df_test_vp',\n",
       " 'df_test_va']"
      ]
     },
     "execution_count": 55,
     "metadata": {},
     "output_type": "execute_result"
    }
   ],
   "source": [
    "dict_key_name"
   ]
  },
  {
   "cell_type": "markdown",
   "id": "640fb7e3",
   "metadata": {},
   "source": [
    "### 변환 함수\n",
    "- 결측값 mean 대체 : alch, prot, vt_gender \n",
    "- LeaveOneOut encoding\n",
    "- LOO encoding pm 삭제 후 motor, cycle-> PCA, \n",
    "- LOO -> binary"
   ]
  },
  {
   "cell_type": "code",
   "execution_count": 56,
   "id": "836b263a",
   "metadata": {},
   "outputs": [],
   "source": [
    "def make_mean2(data):\n",
    "    temp = data.copy()\n",
    "    a=data[data==0].count()\n",
    "    b=data[data==1].count()\n",
    "\n",
    "    y=b/(a+b)\n",
    "    for index,row in data.iteritems():\n",
    "        if row == -1:\n",
    "            temp.loc[index]=y\n",
    "            \n",
    "    return temp"
   ]
  },
  {
   "cell_type": "code",
   "execution_count": 57,
   "id": "266d93db",
   "metadata": {},
   "outputs": [],
   "source": [
    "def replace_missing(data):\n",
    "    data = data[data['at_gender'] != -1]\n",
    "    data['alch'] = make_mean2(data['alch'])\n",
    "    data['at_prot'] = make_mean2(data['at_prot'])\n",
    "    data['vt_prot'] = make_mean2(data['vt_prot'])\n",
    "    data['vt_gender'] = make_mean2(data['vt_gender'])\n",
    "    \n",
    "    looname = ['사고유형_중분류', '법규위반가해자', '행동유형가해자', '도로형태', '교차로형태']\n",
    "\n",
    "    for j in range(len(looname)):\n",
    "        loo_h1 = data[looname[j]].value_counts()[data[looname[j]].value_counts() == 1].index\n",
    "        loo_h1_list = [x for x in loo_h1]\n",
    "\n",
    "        for i in range(len(loo_h1_list)):\n",
    "            data.drop(data[data[looname[j]]==loo_h1_list[i]].index, inplace=True)\n",
    "\n",
    "    return data\n"
   ]
  },
  {
   "cell_type": "code",
   "execution_count": 58,
   "id": "0c4a5faf",
   "metadata": {},
   "outputs": [],
   "source": [
    "def do_loo(data1, data2):\n",
    "    \n",
    "    #1. loo encoding\n",
    "    dt_acci_M,LOOenc_1=LOOencoding(data1[['사고유형_중분류']],data1[['Class']])\n",
    "    dt_acci_M.columns=['acci_M_motor','acci_M_byc','acci_M_pm']\n",
    "\n",
    "    dt_acci_M_t =pd.DataFrame()\n",
    "    for i in LOOenc_1:\n",
    "        dt_acci_M_test= i.transform(data2[['사고유형_중분류']])\n",
    "        dt_acci_M_t=pd.concat([dt_acci_M_t,dt_acci_M_test],axis=1)\n",
    "    dt_acci_M_t.columns=['acci_M_motor','acci_M_byc','acci_M_pm']\n",
    "\n",
    "    dt_law_viol,LOOenc_2=LOOencoding(data1[['법규위반가해자']],data1[['Class']])\n",
    "    dt_law_viol.columns=['law_viol_motor','law_viol_byc','law_viol_pm']\n",
    "#     print(data1.isnull().sum())    \n",
    "\n",
    "    dt_law_viol_t =pd.DataFrame()\n",
    "    for i in LOOenc_2:\n",
    "        dt_law_viol_test= i.transform(data2[['법규위반가해자']])\n",
    "        dt_law_viol_t=pd.concat([dt_law_viol_t,dt_law_viol_test],axis=1)\n",
    "    dt_law_viol_t.columns=['law_viol_motor','law_viol_byc','law_viol_pm']\n",
    "\n",
    "    dt_at_activ, LOOenc_3=LOOencoding(data1[['행동유형가해자']],data1[['Class']])\n",
    "    dt_at_activ.columns=['at_activ_motor','at_activ_byc','at_activ_pm']\n",
    "    \n",
    "    dt_at_activ_t =pd.DataFrame()\n",
    "    for i in LOOenc_3:\n",
    "        dt_at_activ_test= i.transform(data2[['행동유형가해자']])\n",
    "        dt_at_activ_t=pd.concat([dt_at_activ_t,dt_at_activ_test],axis=1)\n",
    "    dt_at_activ_t.columns=['at_activ_motor','at_activ_byc','at_activ_pm']\n",
    "\n",
    "    dt_road_form, LOOenc_4=LOOencoding(data1[['도로형태']],data1[['Class']])\n",
    "    dt_road_form.columns=['road_form_motor','road_form_byc','road_form_pm']\n",
    "\n",
    "    dt_road_form_t =pd.DataFrame()\n",
    "    for i in LOOenc_4:\n",
    "        dt_road_form_test= i.transform(data2[['도로형태']])\n",
    "        dt_road_form_t=pd.concat([dt_road_form_t,dt_road_form_test],axis=1)\n",
    "    dt_road_form_t.columns=['road_form_motor','road_form_byc','road_form_pm']\n",
    "\n",
    "    dt_cross_form, LOOenc_7=LOOencoding(data1[['교차로형태']],data1[['Class']])\n",
    "    dt_cross_form.columns=['cross_form_motor','cross_form_byc','cross_form_pm']\n",
    "\n",
    "    dt_cross_form_t =pd.DataFrame()\n",
    "    for i in LOOenc_7:\n",
    "        dt_cross_form_test= i.transform(data2[['교차로형태']])\n",
    "        dt_cross_form_t=pd.concat([dt_cross_form_t,dt_cross_form_test],axis=1)\n",
    "    dt_cross_form_t.columns=['cross_form_motor','cross_form_byc','cross_form_pm']\n",
    "#     print(dt_at_activ.isnull().sum())\n",
    "        \n",
    "    train = pd.concat([dt_acci_M,dt_law_viol,dt_at_activ,dt_road_form,dt_cross_form],axis=1)\n",
    "    test = pd.concat([dt_acci_M_t,dt_law_viol_t,dt_at_activ_t,dt_road_form_t,dt_cross_form_t],axis=1)\n",
    "    \n",
    "    #2. stnd scaling\n",
    "    col = ['acci_M_pm', 'law_viol_pm', 'at_activ_pm', 'road_form_pm', 'cross_form_pm']\n",
    "    col2 = ['acci_M', 'law_viol', 'at_activ', 'road_form', 'cross_form']\n",
    "\n",
    "    train.drop(col, axis=1, inplace=True)\n",
    "    test.drop(col, axis=1, inplace=True)\n",
    "\n",
    "    standardscaler = StandardScaler()\n",
    "    standardscaler.fit(train)\n",
    "    stnd_train_loo = pd.DataFrame(standardscaler.transform(train), columns=train.columns)\n",
    "    stnd_test_loo = pd.DataFrame(standardscaler.transform(test), columns=test.columns)\n",
    "\n",
    "\n",
    "    #3. pca\n",
    "    dt1 = pd.DataFrame()\n",
    "    dt2 = pd.DataFrame()\n",
    "    \n",
    "    for i in range(5):\n",
    "        pca = PCA()\n",
    "        principalComponents1 = pca.fit_transform(stnd_train_loo.iloc[:,(i*2):(2+i*2)])\n",
    "        dt1[col2[i]] = pd.DataFrame(principalComponents1).iloc[:,0]\n",
    "        principalComponents2 = pca.transform(stnd_test_loo.iloc[:,(i*2):(2+i*2)])\n",
    "        dt2[col2[i]] = pd.DataFrame(principalComponents2).iloc[:,0]\n",
    "\n",
    "    data1 = pd.concat([data1.reset_index(drop=True),dt1], axis=1)\n",
    "    data2 = pd.concat([data2.reset_index(drop=True),dt2], axis=1)\n",
    "\n",
    "    data1.drop(list(data1.filter(regex = '._motor')), axis = 1, inplace=True)\n",
    "    data1.drop(list(data1.filter(regex = '._byc')), axis = 1, inplace=True)\n",
    "\n",
    "    data2.drop(list(data2.filter(regex = '._motor')), axis = 1, inplace=True)\n",
    "    data2.drop(list(data2.filter(regex = '._byc')), axis = 1, inplace=True)\n",
    "\n",
    "    return data1, data2"
   ]
  },
  {
   "cell_type": "code",
   "execution_count": 59,
   "id": "21138328",
   "metadata": {},
   "outputs": [],
   "source": [
    "def loo_to_ordinal(data, arr):\n",
    "    def loo_to_binary(data, i, item, new):\n",
    "        loo= ['사고유형_중분류', '법규위반가해자', '행동유형가해자', '도로형태', '교차로형태']\n",
    "        newcol = binary_encoding(data[[loo[i]]], \n",
    "               item, [x for x in data[loo[i]].unique() if x not in item],\n",
    "               [new])\n",
    "        return newcol\n",
    "\n",
    "    def loo_to_ordinal(data, i, item, new):\n",
    "        loo= ['사고유형_중분류', '법규위반가해자', '행동유형가해자', '도로형태', '교차로형태']\n",
    "        newcol = make_ordinal(data[[loo[i]]], \n",
    "                   item, [new], [0,0.5,1])\n",
    "        return newcol\n",
    "    \n",
    "    data = pd.concat([data,(loo_to_binary(data, 0, arr[0], 'acci_M_ordinal'))],axis=1)\n",
    "    data = pd.concat([data,(loo_to_ordinal(data, 1, arr[1], 'law_viol_ordinal'))],axis=1)\n",
    "    data = pd.concat([data,(loo_to_ordinal(data, 2, arr[2], 'at_activ_ordinal'))],axis=1)\n",
    "    data = pd.concat([data,(loo_to_binary(data, 3, arr[3], 'road_form_ordinal'))],axis=1)\n",
    "    data = pd.concat([data,(loo_to_ordinal(data, 4, arr[4], 'cross_form_ordinal'))],axis=1)\n",
    "    \n",
    "    return data"
   ]
  },
  {
   "cell_type": "code",
   "execution_count": null,
   "id": "b5c4e4df",
   "metadata": {},
   "outputs": [],
   "source": []
  },
  {
   "cell_type": "code",
   "execution_count": 60,
   "id": "56300316",
   "metadata": {},
   "outputs": [],
   "source": [
    "array1 = [['추돌', '후진중충돌'],\n",
    "          \n",
    "          [['기타', '중앙선 침범', '안전운전 의무 불이행'],\n",
    "           ['교차로 통행방법 위반'], ['안전거리 미확보', '신호위반', '과속' ]]\n",
    "          , \n",
    "[['주행 중 대기', '주정차중', 'U턴 중', '진로변경 중', '후진 중' ],\n",
    "                                        ['우회전 중', '좌회전 중', '기타'],\n",
    "                                        ['좌우회전중','직진 중', '앞지르기 중', '불명']],\n",
    "['기타', '주차장', '불명'],\n",
    "          \n",
    "[['교차로 - 사지', '교차로 - 오지이상', '교차로 - 회전'],\n",
    "                                        ['교차로 - 삼지'],\n",
    "                                        ['교차로아님']]]"
   ]
  },
  {
   "cell_type": "code",
   "execution_count": 61,
   "id": "340bf0af",
   "metadata": {},
   "outputs": [],
   "source": [
    "array2 = [['보도통행중', '기타'],\n",
    "          \n",
    "          [['기타', '안전거리 미확보', '안전운전 의무 불이행'],\n",
    "           ['보행자 보호의무 위반'], ['교차로 통행방법 위반','중앙선 침범', '신호위반', '과속' ]]\n",
    "          , \n",
    "[['주정차중', 'U턴 중', '진로변경 중', '후진 중' ],\n",
    "                                        ['우회전 중', '좌회전 중', '기타'],\n",
    "                                        ['좌우회전중','직진 중', '앞지르기 중', '불명']],\n",
    "['교량위','기타', '지하차도(도로)내', '주차장'],\n",
    "          \n",
    "[['교차로 - 사지', '교차로 - 오지이상', '교차로 - 회전'],\n",
    "                                        ['교차로 - 삼지'],\n",
    "                                        ['교차로아님']]]"
   ]
  },
  {
   "cell_type": "code",
   "execution_count": 62,
   "id": "98114845",
   "metadata": {},
   "outputs": [],
   "source": [
    "array3 = [['기타', '주/정차차량 충돌', '도로이탈'],\n",
    "          \n",
    "          [['기타', '안전운전 의무 불이행'],\n",
    "           ['교차로 통행방법 위반'], [ '중앙선 침범','안전거리 미확보', '신호위반', '과속' ]]\n",
    "          , \n",
    "[['주정차중', 'U턴 중', '진로변경 중', '후진 중' ],\n",
    "                                        ['우회전 중', '좌회전 중', '기타'],\n",
    "                                        ['좌우회전중','직진 중', '앞지르기 중', '불명']],\n",
    "['교량위', '터널안', '기타', '지하차도(도로)내', '주차장'],\n",
    "          \n",
    "[['교차로 - 사지', '교차로 - 오지이상', '교차로 - 회전'],\n",
    "                                        ['교차로 - 삼지'],\n",
    "                                        ['교차로아님']]]"
   ]
  },
  {
   "cell_type": "code",
   "execution_count": 63,
   "id": "13cd9dce",
   "metadata": {},
   "outputs": [],
   "source": [
    "array = [array1, array2, array3]"
   ]
  },
  {
   "cell_type": "code",
   "execution_count": 65,
   "id": "ee5d1cd6",
   "metadata": {},
   "outputs": [],
   "source": [
    "def transform(data1, data2, arr):\n",
    "    data1 = replace_missing(data1)\n",
    "    data2 = replace_missing(data2)\n",
    "    \n",
    "    data1, data2 = do_loo(data1, data2)\n",
    "    \n",
    "\n",
    "    data1 = loo_to_ordinal(data1, arr)\n",
    "    data2 = loo_to_ordinal(data2, arr)\n",
    "    return data1, data2"
   ]
  },
  {
   "cell_type": "code",
   "execution_count": null,
   "id": "95f79079",
   "metadata": {},
   "outputs": [],
   "source": [
    "tt_num=int(len(dict_value_df)/2)\n",
    "for i in range(0,tt_num):\n",
    "    dict_value_df[i],dict_value_df[i+tt_num]=transform(dict_value_df[i],dict_value_df[i+tt_num],array[i])"
   ]
  },
  {
   "cell_type": "code",
   "execution_count": 67,
   "id": "93c97a3c",
   "metadata": {},
   "outputs": [],
   "source": [
    "b_dict_check= make_dict(dict_value_df, dict_key_name, 2, ['a','law_viol','at_activ','road_form','cross_form'] , ['original','law_viol_ordinal','at_activ_ordinal','road_form_ordinal','cross_form_ordinal'])"
   ]
  },
  {
   "cell_type": "code",
   "execution_count": 68,
   "id": "5edb90f7",
   "metadata": {},
   "outputs": [],
   "source": [
    "dict_key_name=[]\n",
    "dict_value_df=[]\n",
    "for key,value in b_dict_check.items():\n",
    "    dict_key_name.append(key)\n",
    "    dict_value_df.append(value)"
   ]
  },
  {
   "cell_type": "code",
   "execution_count": 69,
   "id": "ae5b95fe",
   "metadata": {},
   "outputs": [],
   "source": [
    "c_dict_check= make_dict(dict_value_df, dict_key_name, 3,0, ['all','drop'])"
   ]
  },
  {
   "cell_type": "code",
   "execution_count": 70,
   "id": "28694917",
   "metadata": {},
   "outputs": [],
   "source": [
    "dict_key_name=[]\n",
    "dict_value_df=[]\n",
    "for key,value in c_dict_check.items():\n",
    "    dict_key_name.append(key)\n",
    "    dict_value_df.append(value)"
   ]
  },
  {
   "cell_type": "code",
   "execution_count": 71,
   "id": "cd99434f",
   "metadata": {},
   "outputs": [],
   "source": [
    "for i in range(len(dict_key_name)):\n",
    "    dict_value_df[i].drop(['사고유형_중분류', '법규위반가해자', '행동유형가해자', '도로형태', '교차로형태'],axis=1,inplace=True)"
   ]
  },
  {
   "cell_type": "code",
   "execution_count": 72,
   "id": "b72f3789",
   "metadata": {},
   "outputs": [],
   "source": [
    "def minmaxfunction(df_train,df_test,check):\n",
    "    minMaxScaler = MinMaxScaler()\n",
    "    df_train.reset_index(drop=True, inplace=True)\n",
    "    df_test.reset_index(drop=True, inplace=True)  \n",
    "    df_train_tmp = df_train.drop('Class',axis=1)\n",
    "    df_test_tmp=df_test.drop('Class',axis=1)\n",
    "\n",
    "    minMaxScaler.fit(df_train_tmp)\n",
    "    df_train_loo_minmax =pd.DataFrame(minMaxScaler.transform(df_train_tmp))\n",
    "    df_test_loo_minmax =pd.DataFrame(minMaxScaler.transform(df_test_tmp))\n",
    "    \n",
    "    df_train_loo_minmax['Class']=df_train['Class']\n",
    "    colname = [x for x in df_train.columns.drop('Class')]\n",
    "    colname.append('Class')\n",
    "    \n",
    "    df_test_loo_minmax['class']=df_test['Class']\n",
    "    colname = [x for x in df_test.columns.drop('Class')]\n",
    "    colname.append('Class')\n",
    "    \n",
    "    df_train_loo_minmax.columns = colname\n",
    "    df_test_loo_minmax.columns = colname\n",
    "    if check%2:\n",
    "        df_train_loo_minmax['at_age']=df_train['at_age']\n",
    "        df_train_loo_minmax['vt_age']=df_train['vt_age']\n",
    "        df_test_loo_minmax['at_age']=df_test['at_age']\n",
    "        df_test_loo_minmax['vt_age']=df_test['vt_age']\n",
    "    \n",
    "    return df_train_loo_minmax, df_test_loo_minmax"
   ]
  },
  {
   "cell_type": "code",
   "execution_count": 73,
   "id": "89a5f1b8",
   "metadata": {},
   "outputs": [],
   "source": [
    "dict_value_df2=dict_value_df.copy()"
   ]
  },
  {
   "cell_type": "code",
   "execution_count": null,
   "id": "be669aa5",
   "metadata": {},
   "outputs": [],
   "source": [
    "tt_num=int(len(dict_value_df)/2)\n",
    "\n",
    "for i in range(0,tt_num):\n",
    "    dict_value_df2[i],dict_value_df2[i+tt_num]=minmaxfunction(dict_value_df[i],dict_value_df[i+tt_num],i+1)"
   ]
  },
  {
   "cell_type": "code",
   "execution_count": 75,
   "id": "ec813f87",
   "metadata": {},
   "outputs": [],
   "source": [
    "for num, i in zip(range(len(dict_value_df2)),dict_value_df2):\n",
    "    dict_value_df2[num]=i.fillna(0)"
   ]
  },
  {
   "cell_type": "code",
   "execution_count": null,
   "id": "a77de1c8",
   "metadata": {},
   "outputs": [],
   "source": []
  },
  {
   "cell_type": "code",
   "execution_count": null,
   "id": "cc32e583",
   "metadata": {},
   "outputs": [],
   "source": []
  },
  {
   "cell_type": "code",
   "execution_count": 1,
   "id": "e0631ccf",
   "metadata": {},
   "outputs": [],
   "source": [
    "from sklearn.metrics import accuracy_score\n",
    "from sklearn.metrics import confusion_matrix, plot_confusion_matrix\n",
    "from sklearn.metrics import roc_curve, auc, roc_auc_score\n",
    "from pycaret.classification import *\n",
    "from sklearn.metrics import recall_score\n",
    "from sklearn import metrics"
   ]
  },
  {
   "cell_type": "code",
   "execution_count": null,
   "id": "5f693136",
   "metadata": {},
   "outputs": [],
   "source": []
  },
  {
   "cell_type": "code",
   "execution_count": 114,
   "id": "15ba6a06",
   "metadata": {},
   "outputs": [],
   "source": [
    "def pycaret_all(dflist,dfname):\n",
    "    dict_coef={}\n",
    "    tt_num=1   \n",
    "#     tt_num=int(len(dflist)/2)\n",
    "    accu_score=[]\n",
    "    rec_score=[]\n",
    "    cfs_matrix=[]\n",
    "    cls_report=[]\n",
    "    \n",
    "    for i in range(0,tt_num):\n",
    "        i=21\n",
    "        if i % 2 == 0:\n",
    "            clf = setup(data =dflist[i], target = 'Class', fix_imbalance=True, \n",
    "                        numeric_features=['road_num','busstop_n','tree_n','subway_n'], \n",
    "                        categorical_features=['at_age','vt_age'], session_id=0,feature_interaction=False,\n",
    "                        feature_selection=True, normalize=False, silent = True)\n",
    "        else: \n",
    "            clf = setup(data =dflist[i], target = 'Class', fix_imbalance=True, \n",
    "                        numeric_features=['road_num','busstop_n','tree_n','subway_n'], \n",
    "                        session_id=0, feature_interaction=False,\n",
    "                        feature_selection=True, normalize=False, silent = True)\n",
    "            \n",
    "        lr = create_model('lr')\n",
    "#         tuned_lr = tune_model(lr)\n",
    "        final_model = finalize_model(lr)\n",
    "        \n",
    "        test_df = dflist[30+i].copy()\n",
    "        label_test_y = test_df[\"Class\"]\n",
    "        test_df.drop(['Class'], axis = 1, inplace = True)\n",
    "        predictions = predict_model(final_model, data = test_df)\n",
    "\n",
    "        pred_label=predictions['Label']\n",
    "        pred_score=predictions['Score']\n",
    "\n",
    "        #print(accuracy_score(label_test_y , pred_label))\n",
    "        #print(recall_score(label_test_y , pred_label, average=None))\n",
    "        print('done!')\n",
    "        \n",
    "        accu_score.append(accuracy_score(label_test_y , pred_label))\n",
    "        rec_score.append(recall_score(label_test_y , pred_label, average=None))\n",
    "        cfs_matrix.append(metrics.confusion_matrix(label_test_y, pred_label, labels=[\"byc\", \"pm\", \"motor\"]))\n",
    "        cls_report.append(metrics.classification_report(label_test_y, pred_label, labels=[\"byc\", \"pm\", \"motor\"]))\n",
    "\n",
    "        fi0 = pd.DataFrame({'Feature': get_config('X_train').columns, 'Value' : final_model.coef_[0]})\n",
    "        fi_2 = pd.concat([fi0,pd.DataFrame(final_model.coef_[1]),pd.DataFrame(final_model.coef_[2])],axis=1).sort_values(by='Value', key=abs,ascending=False)\n",
    "        fi_2.columns = ['feature','byc','pm','motor']\n",
    "        fi_2['sum'] = np.abs(fi_2['byc']) + np.abs(fi_2['pm']) + np.abs(fi_2['motor'])\n",
    "        fi_2 = fi_2.sort_values(by = 'sum', ascending=False)\n",
    "        dict_coef[dfname[i]+'_coef']=fi_2\n",
    "        \n",
    "        \n",
    "        return accu_score,rec_score,dict_coef"
   ]
  },
  {
   "cell_type": "code",
   "execution_count": 115,
   "id": "51f2cc2a",
   "metadata": {
    "scrolled": false
   },
   "outputs": [
    {
     "data": {
      "text/html": [
       "<style  type=\"text/css\" >\n",
       "#T_28744_row10_col0,#T_28744_row10_col1,#T_28744_row10_col2,#T_28744_row10_col3,#T_28744_row10_col4,#T_28744_row10_col5,#T_28744_row10_col6{\n",
       "            background:  yellow;\n",
       "        }</style><table id=\"T_28744_\" ><thead>    <tr>        <th class=\"blank level0\" ></th>        <th class=\"col_heading level0 col0\" >Accuracy</th>        <th class=\"col_heading level0 col1\" >AUC</th>        <th class=\"col_heading level0 col2\" >Recall</th>        <th class=\"col_heading level0 col3\" >Prec.</th>        <th class=\"col_heading level0 col4\" >F1</th>        <th class=\"col_heading level0 col5\" >Kappa</th>        <th class=\"col_heading level0 col6\" >MCC</th>    </tr></thead><tbody>\n",
       "                <tr>\n",
       "                        <th id=\"T_28744_level0_row0\" class=\"row_heading level0 row0\" >0</th>\n",
       "                        <td id=\"T_28744_row0_col0\" class=\"data row0 col0\" >0.5424</td>\n",
       "                        <td id=\"T_28744_row0_col1\" class=\"data row0 col1\" >0.6181</td>\n",
       "                        <td id=\"T_28744_row0_col2\" class=\"data row0 col2\" >0.5700</td>\n",
       "                        <td id=\"T_28744_row0_col3\" class=\"data row0 col3\" >0.7559</td>\n",
       "                        <td id=\"T_28744_row0_col4\" class=\"data row0 col4\" >0.6033</td>\n",
       "                        <td id=\"T_28744_row0_col5\" class=\"data row0 col5\" >0.1987</td>\n",
       "                        <td id=\"T_28744_row0_col6\" class=\"data row0 col6\" >0.2368</td>\n",
       "            </tr>\n",
       "            <tr>\n",
       "                        <th id=\"T_28744_level0_row1\" class=\"row_heading level0 row1\" >1</th>\n",
       "                        <td id=\"T_28744_row1_col0\" class=\"data row1 col0\" >0.6441</td>\n",
       "                        <td id=\"T_28744_row1_col1\" class=\"data row1 col1\" >0.7657</td>\n",
       "                        <td id=\"T_28744_row1_col2\" class=\"data row1 col2\" >0.6913</td>\n",
       "                        <td id=\"T_28744_row1_col3\" class=\"data row1 col3\" >0.7791</td>\n",
       "                        <td id=\"T_28744_row1_col4\" class=\"data row1 col4\" >0.6849</td>\n",
       "                        <td id=\"T_28744_row1_col5\" class=\"data row1 col5\" >0.2952</td>\n",
       "                        <td id=\"T_28744_row1_col6\" class=\"data row1 col6\" >0.3265</td>\n",
       "            </tr>\n",
       "            <tr>\n",
       "                        <th id=\"T_28744_level0_row2\" class=\"row_heading level0 row2\" >2</th>\n",
       "                        <td id=\"T_28744_row2_col0\" class=\"data row2 col0\" >0.6102</td>\n",
       "                        <td id=\"T_28744_row2_col1\" class=\"data row2 col1\" >0.6165</td>\n",
       "                        <td id=\"T_28744_row2_col2\" class=\"data row2 col2\" >0.3652</td>\n",
       "                        <td id=\"T_28744_row2_col3\" class=\"data row2 col3\" >0.7195</td>\n",
       "                        <td id=\"T_28744_row2_col4\" class=\"data row2 col4\" >0.6554</td>\n",
       "                        <td id=\"T_28744_row2_col5\" class=\"data row2 col5\" >0.1561</td>\n",
       "                        <td id=\"T_28744_row2_col6\" class=\"data row2 col6\" >0.1652</td>\n",
       "            </tr>\n",
       "            <tr>\n",
       "                        <th id=\"T_28744_level0_row3\" class=\"row_heading level0 row3\" >3</th>\n",
       "                        <td id=\"T_28744_row3_col0\" class=\"data row3 col0\" >0.5517</td>\n",
       "                        <td id=\"T_28744_row3_col1\" class=\"data row3 col1\" >0.6606</td>\n",
       "                        <td id=\"T_28744_row3_col2\" class=\"data row3 col2\" >0.5217</td>\n",
       "                        <td id=\"T_28744_row3_col3\" class=\"data row3 col3\" >0.7514</td>\n",
       "                        <td id=\"T_28744_row3_col4\" class=\"data row3 col4\" >0.6188</td>\n",
       "                        <td id=\"T_28744_row3_col5\" class=\"data row3 col5\" >0.1696</td>\n",
       "                        <td id=\"T_28744_row3_col6\" class=\"data row3 col6\" >0.2001</td>\n",
       "            </tr>\n",
       "            <tr>\n",
       "                        <th id=\"T_28744_level0_row4\" class=\"row_heading level0 row4\" >4</th>\n",
       "                        <td id=\"T_28744_row4_col0\" class=\"data row4 col0\" >0.5517</td>\n",
       "                        <td id=\"T_28744_row4_col1\" class=\"data row4 col1\" >0.6589</td>\n",
       "                        <td id=\"T_28744_row4_col2\" class=\"data row4 col2\" >0.3362</td>\n",
       "                        <td id=\"T_28744_row4_col3\" class=\"data row4 col3\" >0.7514</td>\n",
       "                        <td id=\"T_28744_row4_col4\" class=\"data row4 col4\" >0.6321</td>\n",
       "                        <td id=\"T_28744_row4_col5\" class=\"data row4 col5\" >0.1353</td>\n",
       "                        <td id=\"T_28744_row4_col6\" class=\"data row4 col6\" >0.1560</td>\n",
       "            </tr>\n",
       "            <tr>\n",
       "                        <th id=\"T_28744_level0_row5\" class=\"row_heading level0 row5\" >5</th>\n",
       "                        <td id=\"T_28744_row5_col0\" class=\"data row5 col0\" >0.6207</td>\n",
       "                        <td id=\"T_28744_row5_col1\" class=\"data row5 col1\" >0.7287</td>\n",
       "                        <td id=\"T_28744_row5_col2\" class=\"data row5 col2\" >0.3652</td>\n",
       "                        <td id=\"T_28744_row5_col3\" class=\"data row5 col3\" >0.8039</td>\n",
       "                        <td id=\"T_28744_row5_col4\" class=\"data row5 col4\" >0.6972</td>\n",
       "                        <td id=\"T_28744_row5_col5\" class=\"data row5 col5\" >0.2295</td>\n",
       "                        <td id=\"T_28744_row5_col6\" class=\"data row5 col6\" >0.2564</td>\n",
       "            </tr>\n",
       "            <tr>\n",
       "                        <th id=\"T_28744_level0_row6\" class=\"row_heading level0 row6\" >6</th>\n",
       "                        <td id=\"T_28744_row6_col0\" class=\"data row6 col0\" >0.5690</td>\n",
       "                        <td id=\"T_28744_row6_col1\" class=\"data row6 col1\" >0.7491</td>\n",
       "                        <td id=\"T_28744_row6_col2\" class=\"data row6 col2\" >0.6623</td>\n",
       "                        <td id=\"T_28744_row6_col3\" class=\"data row6 col3\" >0.7680</td>\n",
       "                        <td id=\"T_28744_row6_col4\" class=\"data row6 col4\" >0.6296</td>\n",
       "                        <td id=\"T_28744_row6_col5\" class=\"data row6 col5\" >0.2015</td>\n",
       "                        <td id=\"T_28744_row6_col6\" class=\"data row6 col6\" >0.2377</td>\n",
       "            </tr>\n",
       "            <tr>\n",
       "                        <th id=\"T_28744_level0_row7\" class=\"row_heading level0 row7\" >7</th>\n",
       "                        <td id=\"T_28744_row7_col0\" class=\"data row7 col0\" >0.5690</td>\n",
       "                        <td id=\"T_28744_row7_col1\" class=\"data row7 col1\" >0.7292</td>\n",
       "                        <td id=\"T_28744_row7_col2\" class=\"data row7 col2\" >0.4179</td>\n",
       "                        <td id=\"T_28744_row7_col3\" class=\"data row7 col3\" >0.7528</td>\n",
       "                        <td id=\"T_28744_row7_col4\" class=\"data row7 col4\" >0.6338</td>\n",
       "                        <td id=\"T_28744_row7_col5\" class=\"data row7 col5\" >0.1794</td>\n",
       "                        <td id=\"T_28744_row7_col6\" class=\"data row7 col6\" >0.2066</td>\n",
       "            </tr>\n",
       "            <tr>\n",
       "                        <th id=\"T_28744_level0_row8\" class=\"row_heading level0 row8\" >8</th>\n",
       "                        <td id=\"T_28744_row8_col0\" class=\"data row8 col0\" >0.5172</td>\n",
       "                        <td id=\"T_28744_row8_col1\" class=\"data row8 col1\" >0.6821</td>\n",
       "                        <td id=\"T_28744_row8_col2\" class=\"data row8 col2\" >0.3961</td>\n",
       "                        <td id=\"T_28744_row8_col3\" class=\"data row8 col3\" >0.7764</td>\n",
       "                        <td id=\"T_28744_row8_col4\" class=\"data row8 col4\" >0.5908</td>\n",
       "                        <td id=\"T_28744_row8_col5\" class=\"data row8 col5\" >0.1655</td>\n",
       "                        <td id=\"T_28744_row8_col6\" class=\"data row8 col6\" >0.2052</td>\n",
       "            </tr>\n",
       "            <tr>\n",
       "                        <th id=\"T_28744_level0_row9\" class=\"row_heading level0 row9\" >9</th>\n",
       "                        <td id=\"T_28744_row9_col0\" class=\"data row9 col0\" >0.5345</td>\n",
       "                        <td id=\"T_28744_row9_col1\" class=\"data row9 col1\" >0.7096</td>\n",
       "                        <td id=\"T_28744_row9_col2\" class=\"data row9 col2\" >0.4370</td>\n",
       "                        <td id=\"T_28744_row9_col3\" class=\"data row9 col3\" >0.6985</td>\n",
       "                        <td id=\"T_28744_row9_col4\" class=\"data row9 col4\" >0.5913</td>\n",
       "                        <td id=\"T_28744_row9_col5\" class=\"data row9 col5\" >0.1182</td>\n",
       "                        <td id=\"T_28744_row9_col6\" class=\"data row9 col6\" >0.1330</td>\n",
       "            </tr>\n",
       "            <tr>\n",
       "                        <th id=\"T_28744_level0_row10\" class=\"row_heading level0 row10\" >Mean</th>\n",
       "                        <td id=\"T_28744_row10_col0\" class=\"data row10 col0\" >0.5710</td>\n",
       "                        <td id=\"T_28744_row10_col1\" class=\"data row10 col1\" >0.6918</td>\n",
       "                        <td id=\"T_28744_row10_col2\" class=\"data row10 col2\" >0.4763</td>\n",
       "                        <td id=\"T_28744_row10_col3\" class=\"data row10 col3\" >0.7557</td>\n",
       "                        <td id=\"T_28744_row10_col4\" class=\"data row10 col4\" >0.6337</td>\n",
       "                        <td id=\"T_28744_row10_col5\" class=\"data row10 col5\" >0.1849</td>\n",
       "                        <td id=\"T_28744_row10_col6\" class=\"data row10 col6\" >0.2123</td>\n",
       "            </tr>\n",
       "            <tr>\n",
       "                        <th id=\"T_28744_level0_row11\" class=\"row_heading level0 row11\" >SD</th>\n",
       "                        <td id=\"T_28744_row11_col0\" class=\"data row11 col0\" >0.0389</td>\n",
       "                        <td id=\"T_28744_row11_col1\" class=\"data row11 col1\" >0.0501</td>\n",
       "                        <td id=\"T_28744_row11_col2\" class=\"data row11 col2\" >0.1214</td>\n",
       "                        <td id=\"T_28744_row11_col3\" class=\"data row11 col3\" >0.0284</td>\n",
       "                        <td id=\"T_28744_row11_col4\" class=\"data row11 col4\" >0.0345</td>\n",
       "                        <td id=\"T_28744_row11_col5\" class=\"data row11 col5\" >0.0480</td>\n",
       "                        <td id=\"T_28744_row11_col6\" class=\"data row11 col6\" >0.0530</td>\n",
       "            </tr>\n",
       "    </tbody></table>"
      ],
      "text/plain": [
       "<pandas.io.formats.style.Styler at 0x17a83c3a3a0>"
      ]
     },
     "metadata": {},
     "output_type": "display_data"
    },
    {
     "name": "stdout",
     "output_type": "stream",
     "text": [
      "done!\n"
     ]
    }
   ],
   "source": [
    "accuracy_check,recall_check, coef_check=pycaret_all(dict_value_df2,dict_key_name)"
   ]
  },
  {
   "cell_type": "code",
   "execution_count": 116,
   "id": "bf3ac325",
   "metadata": {},
   "outputs": [
    {
     "data": {
      "text/plain": [
       "[0.5147058823529411]"
      ]
     },
     "execution_count": 116,
     "metadata": {},
     "output_type": "execute_result"
    }
   ],
   "source": [
    "accuracy_check"
   ]
  },
  {
   "cell_type": "code",
   "execution_count": 117,
   "id": "37b79551",
   "metadata": {},
   "outputs": [
    {
     "data": {
      "text/plain": [
       "[array([0.2173913 , 0.33333333, 0.56      ])]"
      ]
     },
     "execution_count": 117,
     "metadata": {},
     "output_type": "execute_result"
    }
   ],
   "source": [
    "recall_check"
   ]
  },
  {
   "cell_type": "code",
   "execution_count": 118,
   "id": "f47b4305",
   "metadata": {},
   "outputs": [
    {
     "data": {
      "text/plain": [
       "'df_train_va_original_drop'"
      ]
     },
     "execution_count": 118,
     "metadata": {},
     "output_type": "execute_result"
    }
   ],
   "source": [
    "dict_key_name[21]"
   ]
  },
  {
   "cell_type": "code",
   "execution_count": 119,
   "id": "941193fd",
   "metadata": {},
   "outputs": [
    {
     "data": {
      "text/html": [
       "<div>\n",
       "<style scoped>\n",
       "    .dataframe tbody tr th:only-of-type {\n",
       "        vertical-align: middle;\n",
       "    }\n",
       "\n",
       "    .dataframe tbody tr th {\n",
       "        vertical-align: top;\n",
       "    }\n",
       "\n",
       "    .dataframe thead th {\n",
       "        text-align: right;\n",
       "    }\n",
       "</style>\n",
       "<table border=\"1\" class=\"dataframe\">\n",
       "  <thead>\n",
       "    <tr style=\"text-align: right;\">\n",
       "      <th></th>\n",
       "      <th>feature</th>\n",
       "      <th>byc</th>\n",
       "      <th>pm</th>\n",
       "      <th>motor</th>\n",
       "      <th>sum</th>\n",
       "    </tr>\n",
       "  </thead>\n",
       "  <tbody>\n",
       "    <tr>\n",
       "      <th>91</th>\n",
       "      <td>acci_M</td>\n",
       "      <td>0.2611</td>\n",
       "      <td>2.3859</td>\n",
       "      <td>-2.6470</td>\n",
       "      <td>5.2940</td>\n",
       "    </tr>\n",
       "    <tr>\n",
       "      <th>12</th>\n",
       "      <td>road_num*night</td>\n",
       "      <td>0.8342</td>\n",
       "      <td>-2.1778</td>\n",
       "      <td>1.3436</td>\n",
       "      <td>4.3556</td>\n",
       "    </tr>\n",
       "    <tr>\n",
       "      <th>92</th>\n",
       "      <td>road_form</td>\n",
       "      <td>1.9744</td>\n",
       "      <td>-0.2845</td>\n",
       "      <td>-1.6899</td>\n",
       "      <td>3.9487</td>\n",
       "    </tr>\n",
       "    <tr>\n",
       "      <th>69</th>\n",
       "      <td>at_driving_straight_0.0</td>\n",
       "      <td>0.3410</td>\n",
       "      <td>-1.7820</td>\n",
       "      <td>1.4410</td>\n",
       "      <td>3.5640</td>\n",
       "    </tr>\n",
       "    <tr>\n",
       "      <th>67</th>\n",
       "      <td>road_form*at_driving_leftright</td>\n",
       "      <td>0.9136</td>\n",
       "      <td>-1.7506</td>\n",
       "      <td>0.8370</td>\n",
       "      <td>3.5011</td>\n",
       "    </tr>\n",
       "    <tr>\n",
       "      <th>27</th>\n",
       "      <td>at_activ</td>\n",
       "      <td>0.4586</td>\n",
       "      <td>1.2799</td>\n",
       "      <td>-1.7385</td>\n",
       "      <td>3.4771</td>\n",
       "    </tr>\n",
       "    <tr>\n",
       "      <th>9</th>\n",
       "      <td>tree_n*night</td>\n",
       "      <td>1.3268</td>\n",
       "      <td>-1.7352</td>\n",
       "      <td>0.4084</td>\n",
       "      <td>3.4705</td>\n",
       "    </tr>\n",
       "    <tr>\n",
       "      <th>85</th>\n",
       "      <td>slope_etc*law_viol</td>\n",
       "      <td>1.2343</td>\n",
       "      <td>0.4600</td>\n",
       "      <td>-1.6943</td>\n",
       "      <td>3.3885</td>\n",
       "    </tr>\n",
       "    <tr>\n",
       "      <th>86</th>\n",
       "      <td>road_form*night</td>\n",
       "      <td>-1.6732</td>\n",
       "      <td>0.2677</td>\n",
       "      <td>1.4055</td>\n",
       "      <td>3.3464</td>\n",
       "    </tr>\n",
       "    <tr>\n",
       "      <th>78</th>\n",
       "      <td>slope_etc_1.0</td>\n",
       "      <td>1.6676</td>\n",
       "      <td>-0.6617</td>\n",
       "      <td>-1.0058</td>\n",
       "      <td>3.3351</td>\n",
       "    </tr>\n",
       "    <tr>\n",
       "      <th>21</th>\n",
       "      <td>night_1.0</td>\n",
       "      <td>-1.2203</td>\n",
       "      <td>1.5563</td>\n",
       "      <td>-0.3361</td>\n",
       "      <td>3.1127</td>\n",
       "    </tr>\n",
       "    <tr>\n",
       "      <th>46</th>\n",
       "      <td>schoolA*law_viol</td>\n",
       "      <td>-1.2072</td>\n",
       "      <td>1.4480</td>\n",
       "      <td>-0.2408</td>\n",
       "      <td>2.8961</td>\n",
       "    </tr>\n",
       "    <tr>\n",
       "      <th>70</th>\n",
       "      <td>bycA*law_viol</td>\n",
       "      <td>0.3316</td>\n",
       "      <td>-1.4257</td>\n",
       "      <td>1.0941</td>\n",
       "      <td>2.8513</td>\n",
       "    </tr>\n",
       "    <tr>\n",
       "      <th>53</th>\n",
       "      <td>subway_n</td>\n",
       "      <td>-1.3958</td>\n",
       "      <td>0.1374</td>\n",
       "      <td>1.2584</td>\n",
       "      <td>2.7916</td>\n",
       "    </tr>\n",
       "    <tr>\n",
       "      <th>88</th>\n",
       "      <td>tree_n*at_driving_straight</td>\n",
       "      <td>-0.9317</td>\n",
       "      <td>1.3282</td>\n",
       "      <td>-0.3965</td>\n",
       "      <td>2.6564</td>\n",
       "    </tr>\n",
       "    <tr>\n",
       "      <th>71</th>\n",
       "      <td>bycA</td>\n",
       "      <td>0.7465</td>\n",
       "      <td>-1.3281</td>\n",
       "      <td>0.5816</td>\n",
       "      <td>2.6562</td>\n",
       "    </tr>\n",
       "    <tr>\n",
       "      <th>82</th>\n",
       "      <td>cross_form*night</td>\n",
       "      <td>0.3505</td>\n",
       "      <td>-1.3213</td>\n",
       "      <td>0.9708</td>\n",
       "      <td>2.6427</td>\n",
       "    </tr>\n",
       "    <tr>\n",
       "      <th>45</th>\n",
       "      <td>road_num*at_driving_leftright</td>\n",
       "      <td>-0.2216</td>\n",
       "      <td>1.2842</td>\n",
       "      <td>-1.0626</td>\n",
       "      <td>2.5685</td>\n",
       "    </tr>\n",
       "    <tr>\n",
       "      <th>60</th>\n",
       "      <td>slope_5*at_driving_straight_0.0</td>\n",
       "      <td>0.6001</td>\n",
       "      <td>0.6706</td>\n",
       "      <td>-1.2707</td>\n",
       "      <td>2.5414</td>\n",
       "    </tr>\n",
       "    <tr>\n",
       "      <th>0</th>\n",
       "      <td>slope_etc*night_1.0</td>\n",
       "      <td>-0.8127</td>\n",
       "      <td>1.2259</td>\n",
       "      <td>-0.4132</td>\n",
       "      <td>2.4518</td>\n",
       "    </tr>\n",
       "    <tr>\n",
       "      <th>33</th>\n",
       "      <td>busstop_n</td>\n",
       "      <td>-0.1723</td>\n",
       "      <td>-1.0499</td>\n",
       "      <td>1.2222</td>\n",
       "      <td>2.4444</td>\n",
       "    </tr>\n",
       "    <tr>\n",
       "      <th>54</th>\n",
       "      <td>tree_n*law_viol</td>\n",
       "      <td>0.9219</td>\n",
       "      <td>-1.1214</td>\n",
       "      <td>0.1995</td>\n",
       "      <td>2.2429</td>\n",
       "    </tr>\n",
       "    <tr>\n",
       "      <th>66</th>\n",
       "      <td>tree_n</td>\n",
       "      <td>-1.1161</td>\n",
       "      <td>0.9230</td>\n",
       "      <td>0.1930</td>\n",
       "      <td>2.2322</td>\n",
       "    </tr>\n",
       "    <tr>\n",
       "      <th>23</th>\n",
       "      <td>slope_2_0.0</td>\n",
       "      <td>-0.0089</td>\n",
       "      <td>1.0759</td>\n",
       "      <td>-1.0670</td>\n",
       "      <td>2.1518</td>\n",
       "    </tr>\n",
       "    <tr>\n",
       "      <th>3</th>\n",
       "      <td>subway_n*at_driving_leftright</td>\n",
       "      <td>-0.4384</td>\n",
       "      <td>-0.6020</td>\n",
       "      <td>1.0404</td>\n",
       "      <td>2.0809</td>\n",
       "    </tr>\n",
       "    <tr>\n",
       "      <th>6</th>\n",
       "      <td>slope_2*night_1.0</td>\n",
       "      <td>-0.1194</td>\n",
       "      <td>1.0385</td>\n",
       "      <td>-0.9191</td>\n",
       "      <td>2.0770</td>\n",
       "    </tr>\n",
       "    <tr>\n",
       "      <th>65</th>\n",
       "      <td>busstop_n*at_driving_straight</td>\n",
       "      <td>0.1266</td>\n",
       "      <td>-1.0225</td>\n",
       "      <td>0.8959</td>\n",
       "      <td>2.0450</td>\n",
       "    </tr>\n",
       "    <tr>\n",
       "      <th>38</th>\n",
       "      <td>at_driving_leftright_0.0</td>\n",
       "      <td>0.7222</td>\n",
       "      <td>-0.9790</td>\n",
       "      <td>0.2568</td>\n",
       "      <td>1.9580</td>\n",
       "    </tr>\n",
       "    <tr>\n",
       "      <th>15</th>\n",
       "      <td>slope_2*law_viol</td>\n",
       "      <td>-0.9694</td>\n",
       "      <td>0.8496</td>\n",
       "      <td>0.1198</td>\n",
       "      <td>1.9388</td>\n",
       "    </tr>\n",
       "    <tr>\n",
       "      <th>81</th>\n",
       "      <td>slope_5*night_0.0</td>\n",
       "      <td>0.3835</td>\n",
       "      <td>0.5848</td>\n",
       "      <td>-0.9683</td>\n",
       "      <td>1.9366</td>\n",
       "    </tr>\n",
       "    <tr>\n",
       "      <th>28</th>\n",
       "      <td>bycA*at_driving_leftright</td>\n",
       "      <td>0.7877</td>\n",
       "      <td>0.1706</td>\n",
       "      <td>-0.9583</td>\n",
       "      <td>1.9166</td>\n",
       "    </tr>\n",
       "    <tr>\n",
       "      <th>18</th>\n",
       "      <td>slope_3*night_0.0</td>\n",
       "      <td>-0.7310</td>\n",
       "      <td>0.9382</td>\n",
       "      <td>-0.2072</td>\n",
       "      <td>1.8765</td>\n",
       "    </tr>\n",
       "    <tr>\n",
       "      <th>1</th>\n",
       "      <td>busstop_n*night</td>\n",
       "      <td>-0.1414</td>\n",
       "      <td>-0.7609</td>\n",
       "      <td>0.9023</td>\n",
       "      <td>1.8047</td>\n",
       "    </tr>\n",
       "    <tr>\n",
       "      <th>75</th>\n",
       "      <td>slope_2*at_driving_leftright_0.0</td>\n",
       "      <td>0.1610</td>\n",
       "      <td>0.6949</td>\n",
       "      <td>-0.8559</td>\n",
       "      <td>1.7117</td>\n",
       "    </tr>\n",
       "    <tr>\n",
       "      <th>31</th>\n",
       "      <td>subway_n*law_viol</td>\n",
       "      <td>-0.1426</td>\n",
       "      <td>-0.7015</td>\n",
       "      <td>0.8440</td>\n",
       "      <td>1.6881</td>\n",
       "    </tr>\n",
       "    <tr>\n",
       "      <th>20</th>\n",
       "      <td>slope_4*at_driving_leftright_1.0</td>\n",
       "      <td>-0.4704</td>\n",
       "      <td>-0.3685</td>\n",
       "      <td>0.8389</td>\n",
       "      <td>1.6778</td>\n",
       "    </tr>\n",
       "    <tr>\n",
       "      <th>26</th>\n",
       "      <td>silverA*at_activ</td>\n",
       "      <td>-0.8206</td>\n",
       "      <td>0.3410</td>\n",
       "      <td>0.4795</td>\n",
       "      <td>1.6411</td>\n",
       "    </tr>\n",
       "    <tr>\n",
       "      <th>36</th>\n",
       "      <td>subway_n*at_driving_straight</td>\n",
       "      <td>-0.3706</td>\n",
       "      <td>0.7800</td>\n",
       "      <td>-0.4094</td>\n",
       "      <td>1.5599</td>\n",
       "    </tr>\n",
       "    <tr>\n",
       "      <th>14</th>\n",
       "      <td>bycA*at_driving_straight</td>\n",
       "      <td>0.0784</td>\n",
       "      <td>-0.7724</td>\n",
       "      <td>0.6940</td>\n",
       "      <td>1.5448</td>\n",
       "    </tr>\n",
       "    <tr>\n",
       "      <th>49</th>\n",
       "      <td>silverA*at_driving_leftright_0.0</td>\n",
       "      <td>-0.7660</td>\n",
       "      <td>0.0998</td>\n",
       "      <td>0.6662</td>\n",
       "      <td>1.5320</td>\n",
       "    </tr>\n",
       "  </tbody>\n",
       "</table>\n",
       "</div>"
      ],
      "text/plain": [
       "                             feature     byc      pm   motor    sum\n",
       "91                            acci_M  0.2611  2.3859 -2.6470 5.2940\n",
       "12                    road_num*night  0.8342 -2.1778  1.3436 4.3556\n",
       "92                         road_form  1.9744 -0.2845 -1.6899 3.9487\n",
       "69           at_driving_straight_0.0  0.3410 -1.7820  1.4410 3.5640\n",
       "67    road_form*at_driving_leftright  0.9136 -1.7506  0.8370 3.5011\n",
       "27                          at_activ  0.4586  1.2799 -1.7385 3.4771\n",
       "9                       tree_n*night  1.3268 -1.7352  0.4084 3.4705\n",
       "85                slope_etc*law_viol  1.2343  0.4600 -1.6943 3.3885\n",
       "86                   road_form*night -1.6732  0.2677  1.4055 3.3464\n",
       "78                     slope_etc_1.0  1.6676 -0.6617 -1.0058 3.3351\n",
       "21                         night_1.0 -1.2203  1.5563 -0.3361 3.1127\n",
       "46                  schoolA*law_viol -1.2072  1.4480 -0.2408 2.8961\n",
       "70                     bycA*law_viol  0.3316 -1.4257  1.0941 2.8513\n",
       "53                          subway_n -1.3958  0.1374  1.2584 2.7916\n",
       "88        tree_n*at_driving_straight -0.9317  1.3282 -0.3965 2.6564\n",
       "71                              bycA  0.7465 -1.3281  0.5816 2.6562\n",
       "82                  cross_form*night  0.3505 -1.3213  0.9708 2.6427\n",
       "45     road_num*at_driving_leftright -0.2216  1.2842 -1.0626 2.5685\n",
       "60   slope_5*at_driving_straight_0.0  0.6001  0.6706 -1.2707 2.5414\n",
       "0                slope_etc*night_1.0 -0.8127  1.2259 -0.4132 2.4518\n",
       "33                         busstop_n -0.1723 -1.0499  1.2222 2.4444\n",
       "54                   tree_n*law_viol  0.9219 -1.1214  0.1995 2.2429\n",
       "66                            tree_n -1.1161  0.9230  0.1930 2.2322\n",
       "23                       slope_2_0.0 -0.0089  1.0759 -1.0670 2.1518\n",
       "3      subway_n*at_driving_leftright -0.4384 -0.6020  1.0404 2.0809\n",
       "6                  slope_2*night_1.0 -0.1194  1.0385 -0.9191 2.0770\n",
       "65     busstop_n*at_driving_straight  0.1266 -1.0225  0.8959 2.0450\n",
       "38          at_driving_leftright_0.0  0.7222 -0.9790  0.2568 1.9580\n",
       "15                  slope_2*law_viol -0.9694  0.8496  0.1198 1.9388\n",
       "81                 slope_5*night_0.0  0.3835  0.5848 -0.9683 1.9366\n",
       "28         bycA*at_driving_leftright  0.7877  0.1706 -0.9583 1.9166\n",
       "18                 slope_3*night_0.0 -0.7310  0.9382 -0.2072 1.8765\n",
       "1                    busstop_n*night -0.1414 -0.7609  0.9023 1.8047\n",
       "75  slope_2*at_driving_leftright_0.0  0.1610  0.6949 -0.8559 1.7117\n",
       "31                 subway_n*law_viol -0.1426 -0.7015  0.8440 1.6881\n",
       "20  slope_4*at_driving_leftright_1.0 -0.4704 -0.3685  0.8389 1.6778\n",
       "26                  silverA*at_activ -0.8206  0.3410  0.4795 1.6411\n",
       "36      subway_n*at_driving_straight -0.3706  0.7800 -0.4094 1.5599\n",
       "14          bycA*at_driving_straight  0.0784 -0.7724  0.6940 1.5448\n",
       "49  silverA*at_driving_leftright_0.0 -0.7660  0.0998  0.6662 1.5320"
      ]
     },
     "execution_count": 119,
     "metadata": {},
     "output_type": "execute_result"
    }
   ],
   "source": [
    "coef_check['df_train_va_original_drop_coef'].head(40)"
   ]
  },
  {
   "cell_type": "code",
   "execution_count": null,
   "id": "25660877",
   "metadata": {},
   "outputs": [],
   "source": [
    "# %save modeling_with_fin_at_dataset.py 1-300"
   ]
  },
  {
   "cell_type": "code",
   "execution_count": null,
   "id": "af1189be",
   "metadata": {},
   "outputs": [],
   "source": []
  }
 ],
 "metadata": {
  "kernelspec": {
   "display_name": "Python 3 (ipykernel)",
   "language": "python",
   "name": "python3"
  },
  "language_info": {
   "codemirror_mode": {
    "name": "ipython",
    "version": 3
   },
   "file_extension": ".py",
   "mimetype": "text/x-python",
   "name": "python",
   "nbconvert_exporter": "python",
   "pygments_lexer": "ipython3",
   "version": "3.9.7"
  }
 },
 "nbformat": 4,
 "nbformat_minor": 5
}
